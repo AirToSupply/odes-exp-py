{
 "cells": [
  {
   "cell_type": "code",
   "execution_count": 1,
   "id": "007bba01-2489-40f6-b7e8-bbdc06f2de62",
   "metadata": {},
   "outputs": [],
   "source": [
    "import numpy as np"
   ]
  },
  {
   "cell_type": "markdown",
   "id": "f4a00014-6a35-4446-830e-9cd08179ac52",
   "metadata": {},
   "source": [
    "### 随机数种子\n",
    "\n",
    "通过seed函数指定随机数生成时所使用算法开始的数值，如果使用相同的seed值，则每次生成的随机数都相同；如果不设置这个值，则会根据系统时间来自己选择这个值，此时每次生成的随机数因为时间差异而不同。"
   ]
  },
  {
   "cell_type": "code",
   "execution_count": 6,
   "id": "009f1f55-a441-45f7-826b-385470af28f0",
   "metadata": {},
   "outputs": [
    {
     "name": "stdout",
     "output_type": "stream",
     "text": [
      "rand = 0.3745401188473625\n",
      "rand = 0.9507143064099162\n"
     ]
    }
   ],
   "source": [
    "np.random.seed(42)\n",
    "\n",
    "# ⚠️\n",
    "#    （1）这里的随机数相同是指每次执行的结果都相同\n",
    "#    （2）随机数种子只对下一次随机数的产生有影响\n",
    "print(\"rand =\", np.random.rand())\n",
    "print(\"rand =\", np.random.rand())"
   ]
  },
  {
   "cell_type": "markdown",
   "id": "090d28b0-56b6-467e-a7bf-0b61049a7903",
   "metadata": {},
   "source": [
    "#### rand\n",
    "\n",
    "随机产生[0, 1)之间的随机数"
   ]
  },
  {
   "cell_type": "code",
   "execution_count": 8,
   "id": "fa8097c3-6e33-4dcb-814c-c1cbb37f4116",
   "metadata": {},
   "outputs": [
    {
     "name": "stdout",
     "output_type": "stream",
     "text": [
      "rand value\n",
      " 0.5986584841970366\n",
      "rand matrix\n",
      " [[0.15601864 0.15599452 0.05808361]\n",
      " [0.86617615 0.60111501 0.70807258]]\n"
     ]
    }
   ],
   "source": [
    "print(\"rand value\\n\", np.random.rand())\n",
    "print(\"rand matrix\\n\", np.random.rand(2, 3))"
   ]
  },
  {
   "cell_type": "markdown",
   "id": "de4ef845-0d6c-4114-924f-08d94cb4a561",
   "metadata": {},
   "source": [
    "#### randn\n",
    "\n",
    "随机生成服从 μ = 0, σ = 1 的标准正态分布的值"
   ]
  },
  {
   "cell_type": "code",
   "execution_count": 10,
   "id": "06269ccd-f583-4708-9e99-3ae0f2587e5a",
   "metadata": {},
   "outputs": [
    {
     "data": {
      "text/plain": [
       "array([[-0.46947439,  0.54256004, -0.46341769, -0.46572975],\n",
       "       [ 0.24196227, -1.91328024, -1.72491783, -0.56228753],\n",
       "       [-1.01283112,  0.31424733, -0.90802408, -1.4123037 ]])"
      ]
     },
     "execution_count": 10,
     "metadata": {},
     "output_type": "execute_result"
    }
   ],
   "source": [
    "np.random.randn(3, 4)"
   ]
  },
  {
   "cell_type": "markdown",
   "id": "83dd99fc-1fab-4334-8809-39b5356cce29",
   "metadata": {},
   "source": [
    "#### randint\n",
    "\n",
    "随机生成制指定范围内的随机整数"
   ]
  },
  {
   "cell_type": "code",
   "execution_count": 11,
   "id": "0372c49c-85b2-41c1-946a-5d5f361a318a",
   "metadata": {},
   "outputs": [
    {
     "data": {
      "text/plain": [
       "array([[2, 6, 3],\n",
       "       [8, 2, 4]])"
      ]
     },
     "execution_count": 11,
     "metadata": {},
     "output_type": "execute_result"
    }
   ],
   "source": [
    "# 生成[0, 10)之间的随机整数\n",
    "np.random.randint(10, size = (2, 3))"
   ]
  },
  {
   "cell_type": "code",
   "execution_count": 12,
   "id": "09171ede-66dd-4352-855c-33e5c1f1c13b",
   "metadata": {},
   "outputs": [
    {
     "data": {
      "text/plain": [
       "array([[150, 106, 120],\n",
       "       [172, 138, 117]])"
      ]
     },
     "execution_count": 12,
     "metadata": {},
     "output_type": "execute_result"
    }
   ],
   "source": [
    "# 生成[100, 200)之间的随机整数\n",
    "np.random.randint(100, 200, size = (2, 3))"
   ]
  },
  {
   "cell_type": "markdown",
   "id": "77e26ce5-9239-4970-a98d-235ff9bc81ca",
   "metadata": {},
   "source": [
    "#### choice\n",
    "\n",
    "从一个列表或者数组中进行随机采样，或者从某个指定的区间中进行采样生成随机数"
   ]
  },
  {
   "cell_type": "code",
   "execution_count": 14,
   "id": "194cedd7-2dfc-403d-a91c-4a4c2bd63c3c",
   "metadata": {},
   "outputs": [
    {
     "data": {
      "text/plain": [
       "array([23,  5, 35, 65])"
      ]
     },
     "execution_count": 14,
     "metadata": {},
     "output_type": "execute_result"
    }
   ],
   "source": [
    "# 从数组中随机采样3个数生成一维数组\n",
    "data = [1, 5, 100, 35, 23, 24, 65, 78, 36]\n",
    "np.random.choice(data, 4)"
   ]
  },
  {
   "cell_type": "code",
   "execution_count": 15,
   "id": "49dcf3c2-3202-474d-b098-bfe20e255dee",
   "metadata": {},
   "outputs": [
    {
     "data": {
      "text/plain": [
       "array([[ 78, 100,   1],\n",
       "       [ 35,   5,  78]])"
      ]
     },
     "execution_count": 15,
     "metadata": {},
     "output_type": "execute_result"
    }
   ],
   "source": [
    "# 从数组中随机采样生成多维数组\n",
    "data = [1, 5, 100, 35, 23, 24, 65, 78, 36]\n",
    "np.random.choice(data, size = (2, 3))"
   ]
  },
  {
   "cell_type": "code",
   "execution_count": 17,
   "id": "bd8aeef0-2526-4554-9e31-a6729b684c92",
   "metadata": {},
   "outputs": [
    {
     "data": {
      "text/plain": [
       "array([[4, 1, 1],\n",
       "       [3, 1, 1]])"
      ]
     },
     "execution_count": 17,
     "metadata": {},
     "output_type": "execute_result"
    }
   ],
   "source": [
    "# 从[0, 5)之间随机采样生成多维数组\n",
    "np.random.choice(5, size = (2, 3))"
   ]
  },
  {
   "cell_type": "markdown",
   "id": "e8309654-eb73-4386-af06-90084c6ca150",
   "metadata": {},
   "source": [
    "#### shuffle\n",
    "\n",
    "将一个数组中的位置进行混洗打乱"
   ]
  },
  {
   "cell_type": "code",
   "execution_count": 25,
   "id": "cd529a42-f8ee-402c-95b3-46bfb931ae3a",
   "metadata": {},
   "outputs": [
    {
     "name": "stdout",
     "output_type": "stream",
     "text": [
      "<arr>\n",
      " [0 1 2 3 4 5 6 7 8 9]\n",
      "<shuffle arr>\n",
      " [7 0 1 8 3 2 4 5 9 6]\n"
     ]
    }
   ],
   "source": [
    "arr = np.arange(10)\n",
    "print(\"<arr>\\n\", arr)\n",
    "np.random.shuffle(arr)\n",
    "print(\"<shuffle arr>\\n\", arr)"
   ]
  },
  {
   "cell_type": "code",
   "execution_count": null,
   "id": "b1a8f427-10df-404b-b7dc-30b66d557cc4",
   "metadata": {},
   "outputs": [],
   "source": []
  }
 ],
 "metadata": {
  "kernelspec": {
   "display_name": "Python 3 (ipykernel)",
   "language": "python",
   "name": "python3"
  },
  "language_info": {
   "codemirror_mode": {
    "name": "ipython",
    "version": 3
   },
   "file_extension": ".py",
   "mimetype": "text/x-python",
   "name": "python",
   "nbconvert_exporter": "python",
   "pygments_lexer": "ipython3",
   "version": "3.11.4"
  }
 },
 "nbformat": 4,
 "nbformat_minor": 5
}
