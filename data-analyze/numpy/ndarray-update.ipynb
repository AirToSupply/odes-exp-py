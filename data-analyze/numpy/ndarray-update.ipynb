{
 "cells": [
  {
   "cell_type": "code",
   "execution_count": 1,
   "id": "39f44072",
   "metadata": {},
   "outputs": [],
   "source": [
    "import numpy as np"
   ]
  },
  {
   "cell_type": "code",
   "execution_count": 3,
   "id": "11466ca0",
   "metadata": {},
   "outputs": [
    {
     "data": {
      "text/plain": [
       "array([[7, 9, 8, 0, 4, 7],\n",
       "       [0, 5, 9, 4, 2, 0],\n",
       "       [4, 5, 8, 8, 3, 6],\n",
       "       [0, 8, 0, 1, 4, 1]])"
      ]
     },
     "execution_count": 3,
     "metadata": {},
     "output_type": "execute_result"
    }
   ],
   "source": [
    "matrix = np.random.randint(0, 10, size = (4, 6))\n",
    "matrix"
   ]
  },
  {
   "cell_type": "code",
   "execution_count": 4,
   "id": "e49195cc",
   "metadata": {},
   "outputs": [
    {
     "data": {
      "text/plain": [
       "array([[7, 9, 8, 0, 4, 7],\n",
       "       [0, 0, 0, 0, 0, 0],\n",
       "       [4, 5, 8, 8, 3, 6],\n",
       "       [0, 8, 0, 1, 4, 1]])"
      ]
     },
     "execution_count": 4,
     "metadata": {},
     "output_type": "execute_result"
    }
   ],
   "source": [
    "# 将矩阵第2行修改为0\n",
    "# ⚠️ 此操作会修改原始数组\n",
    "matrix[1] = 0\n",
    "matrix"
   ]
  },
  {
   "cell_type": "code",
   "execution_count": 6,
   "id": "e88eb604",
   "metadata": {},
   "outputs": [
    {
     "data": {
      "text/plain": [
       "array([[7, 9, 8, 0, 4, 7],\n",
       "       [0, 5, 9, 4, 2, 0],\n",
       "       [4, 5, 8, 8, 3, 6],\n",
       "       [0, 8, 0, 1, 4, 1]])"
      ]
     },
     "execution_count": 6,
     "metadata": {},
     "output_type": "execute_result"
    }
   ],
   "source": [
    "# 将矩阵第2行修改为指定的行\n",
    "# ⚠️ 此操作会修改原始数组\n",
    "matrix[1] = np.array([0, 5, 9, 4, 2, 0])\n",
    "matrix"
   ]
  },
  {
   "cell_type": "code",
   "execution_count": 7,
   "id": "c62851ad",
   "metadata": {},
   "outputs": [
    {
     "data": {
      "text/plain": [
       "array([[7, 9, 8, 1, 4, 7],\n",
       "       [1, 5, 9, 4, 1, 1],\n",
       "       [4, 5, 8, 8, 3, 6],\n",
       "       [1, 8, 1, 1, 4, 1]])"
      ]
     },
     "execution_count": 7,
     "metadata": {},
     "output_type": "execute_result"
    }
   ],
   "source": [
    "# 将矩阵中元素小于3的替换为1\n",
    "# ⚠️ 此操作会修改原始数组\n",
    "matrix[matrix < 3] = 1\n",
    "matrix"
   ]
  },
  {
   "cell_type": "code",
   "execution_count": 9,
   "id": "daad8e39",
   "metadata": {},
   "outputs": [
    {
     "name": "stdout",
     "output_type": "stream",
     "text": [
      "<matrix>\n",
      " [[7 9 8 1 4 7]\n",
      " [1 5 9 4 1 1]\n",
      " [4 5 8 8 3 6]\n",
      " [1 8 1 1 4 1]]\n",
      "<new_matrix>\n",
      " [[1 1 1 0 0 1]\n",
      " [0 1 1 0 0 0]\n",
      " [0 1 1 1 0 1]\n",
      " [0 1 0 0 0 0]]\n"
     ]
    }
   ],
   "source": [
    "# 将矩阵中元素大于4的替换为1，反之替换为0\n",
    "# ⚠️ 此操作不会修改原始数组\n",
    "new_matrix = np.where(matrix > 4, 1, 0)\n",
    "print(\"<matrix>\\n\", matrix)\n",
    "print(\"<new_matrix>\\n\", new_matrix)"
   ]
  }
 ],
 "metadata": {
  "kernelspec": {
   "display_name": "Python 3 (ipykernel)",
   "language": "python",
   "name": "python3"
  },
  "language_info": {
   "codemirror_mode": {
    "name": "ipython",
    "version": 3
   },
   "file_extension": ".py",
   "mimetype": "text/x-python",
   "name": "python",
   "nbconvert_exporter": "python",
   "pygments_lexer": "ipython3",
   "version": "3.7.12"
  }
 },
 "nbformat": 4,
 "nbformat_minor": 5
}
