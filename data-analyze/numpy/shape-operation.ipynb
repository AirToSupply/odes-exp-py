{
 "cells": [
  {
   "cell_type": "code",
   "execution_count": 1,
   "id": "8d1f9c7d",
   "metadata": {},
   "outputs": [],
   "source": [
    "import numpy as np"
   ]
  },
  {
   "cell_type": "markdown",
   "id": "13ca9c44",
   "metadata": {},
   "source": [
    "### 叠加"
   ]
  },
  {
   "cell_type": "markdown",
   "id": "1d7f2a4e",
   "metadata": {},
   "source": [
    "1.vstack：将数组在**垂直**方向上进行叠加，前提是数组的列必须要相同。"
   ]
  },
  {
   "cell_type": "code",
   "execution_count": 6,
   "id": "2425a8fc",
   "metadata": {},
   "outputs": [
    {
     "name": "stdout",
     "output_type": "stream",
     "text": [
      "<nd1>\n",
      " [[1 0 1 1 1]\n",
      " [1 0 0 2 4]\n",
      " [1 0 3 1 2]]\n",
      "<nd2>\n",
      " [[2 3 1 4 0]]\n",
      "<nd3>\n",
      " [[1 0 1 1 1]\n",
      " [1 0 0 2 4]\n",
      " [1 0 3 1 2]\n",
      " [2 3 1 4 0]]\n"
     ]
    }
   ],
   "source": [
    "nd1 = np.random.randint(0, 5, size = (3, 5))\n",
    "nd2 = np.random.randint(0, 5, size = (1, 5))\n",
    "nd3 = np.vstack([nd1, nd2])\n",
    "\n",
    "print(\"<nd1>\\n\", nd1)\n",
    "print(\"<nd2>\\n\", nd2)\n",
    "print(\"<nd3>\\n\", nd3)"
   ]
  },
  {
   "cell_type": "markdown",
   "id": "ffde3e01",
   "metadata": {},
   "source": [
    "2.hstack：将数组在**水平**方向上进行叠加，前提是数组的行必须要相同。"
   ]
  },
  {
   "cell_type": "code",
   "execution_count": 8,
   "id": "5adbe3a9",
   "metadata": {},
   "outputs": [
    {
     "name": "stdout",
     "output_type": "stream",
     "text": [
      "<nd1>\n",
      " [[1 1 1 3 0]\n",
      " [4 0 2 0 0]\n",
      " [1 1 4 4 1]]\n",
      "<nd2>\n",
      " [[0]\n",
      " [3]\n",
      " [4]]\n",
      "<nd3>\n",
      " [[1 1 1 3 0 0]\n",
      " [4 0 2 0 0 3]\n",
      " [1 1 4 4 1 4]]\n"
     ]
    }
   ],
   "source": [
    "nd1 = np.random.randint(0, 5, size = (3, 5))\n",
    "nd2 = np.random.randint(0, 5, size = (3, 1))\n",
    "nd3 = np.hstack([nd1, nd2])\n",
    "\n",
    "print(\"<nd1>\\n\", nd1)\n",
    "print(\"<nd2>\\n\", nd2)\n",
    "print(\"<nd3>\\n\", nd3)"
   ]
  },
  {
   "cell_type": "markdown",
   "id": "2d94828e",
   "metadata": {},
   "source": [
    "3.concatenate：将数组在水平或者垂直方向进行叠加，具体方向通过axis参数轴进行指定\n",
    "\n",
    "axis=0    代表垂直方向叠加（默认）\n",
    "\n",
    "axis=1    代表水平方向叠加\n",
    "\n",
    "axis=None 代表叠加为一位数组"
   ]
  },
  {
   "cell_type": "code",
   "execution_count": 11,
   "id": "02fb8863",
   "metadata": {},
   "outputs": [
    {
     "name": "stdout",
     "output_type": "stream",
     "text": [
      "<nd1>\n",
      " [[4 2 1 4 1]\n",
      " [3 4 3 4 3]\n",
      " [1 4 4 1 3]]\n",
      "<nd2>\n",
      " [[2 1 3 0 4]]\n",
      "<nd3>\n",
      " [[4 2 1 4 1]\n",
      " [3 4 3 4 3]\n",
      " [1 4 4 1 3]\n",
      " [2 1 3 0 4]]\n"
     ]
    }
   ],
   "source": [
    "# 垂直叠加\n",
    "nd1 = np.random.randint(0, 5, size = (3, 5))\n",
    "nd2 = np.random.randint(0, 5, size = (1, 5))\n",
    "nd3 = np.concatenate([nd1, nd2], axis=0)\n",
    "\n",
    "print(\"<nd1>\\n\", nd1)\n",
    "print(\"<nd2>\\n\", nd2)\n",
    "print(\"<nd3>\\n\", nd3)"
   ]
  },
  {
   "cell_type": "code",
   "execution_count": 12,
   "id": "a573bbf3",
   "metadata": {},
   "outputs": [
    {
     "name": "stdout",
     "output_type": "stream",
     "text": [
      "<nd1>\n",
      " [[4 4 1 0 4]\n",
      " [1 0 2 1 1]\n",
      " [1 2 0 1 2]]\n",
      "<nd2>\n",
      " [[3]\n",
      " [4]\n",
      " [2]]\n",
      "<nd3>\n",
      " [[4 4 1 0 4 3]\n",
      " [1 0 2 1 1 4]\n",
      " [1 2 0 1 2 2]]\n"
     ]
    }
   ],
   "source": [
    "# 水平叠加\n",
    "nd1 = np.random.randint(0, 5, size = (3, 5))\n",
    "nd2 = np.random.randint(0, 5, size = (3, 1))\n",
    "\n",
    "nd3 = np.concatenate([nd1, nd2], axis=1)\n",
    "\n",
    "print(\"<nd1>\\n\", nd1)\n",
    "print(\"<nd2>\\n\", nd2)\n",
    "print(\"<nd3>\\n\", nd3)"
   ]
  },
  {
   "cell_type": "code",
   "execution_count": 13,
   "id": "e47d0d6f",
   "metadata": {},
   "outputs": [
    {
     "name": "stdout",
     "output_type": "stream",
     "text": [
      "<nd1>\n",
      " [[1 3 3]\n",
      " [2 3 0]]\n",
      "<nd2>\n",
      " [[3 4]\n",
      " [3 2]\n",
      " [1 2]]\n",
      "<nd3>\n",
      " [1 3 3 2 3 0 3 4 3 2 1 2]\n"
     ]
    }
   ],
   "source": [
    "# 叠加为一维数组\n",
    "nd1 = np.random.randint(0, 5, size = (2, 3))\n",
    "nd2 = np.random.randint(0, 5, size = (3, 2))\n",
    "\n",
    "nd3 = np.concatenate([nd1, nd2], axis=None)\n",
    "\n",
    "print(\"<nd1>\\n\", nd1)\n",
    "print(\"<nd2>\\n\", nd2)\n",
    "print(\"<nd3>\\n\", nd3)"
   ]
  },
  {
   "cell_type": "markdown",
   "id": "63633fec",
   "metadata": {},
   "source": [
    "### 切割"
   ]
  },
  {
   "cell_type": "markdown",
   "id": "f3103bd7",
   "metadata": {},
   "source": [
    "1.hsplit： 水平切割。指定分割为几列，可以使用数字代表分成几个部分，也可以使用数组来代表切割的位置"
   ]
  },
  {
   "cell_type": "code",
   "execution_count": 20,
   "id": "72290133",
   "metadata": {},
   "outputs": [
    {
     "name": "stdout",
     "output_type": "stream",
     "text": [
      "<nd>\n",
      " [[1 2 4 2]\n",
      " [4 1 1 4]\n",
      " [1 4 0 1]]\n",
      "<part1>\n",
      " [[1 2]\n",
      " [4 1]\n",
      " [1 4]]\n",
      "<part2>\n",
      " [[4 2]\n",
      " [1 4]\n",
      " [0 1]]\n"
     ]
    }
   ],
   "source": [
    "# 平均切割\n",
    "nd = np.random.randint(0, 5, size = (3, 4))\n",
    "# 平均分割为2份\n",
    "# ⚠️ 如果数组的列数不能被切割数量整除，则会产生异常：array split does not result in an equal division\n",
    "(part1, part2) = np.hsplit(nd, 2)\n",
    "\n",
    "print(\"<nd>\\n\", nd)\n",
    "print(\"<part1>\\n\", part1)\n",
    "print(\"<part2>\\n\", part2)"
   ]
  },
  {
   "cell_type": "code",
   "execution_count": 21,
   "id": "4528a79d",
   "metadata": {},
   "outputs": [
    {
     "name": "stdout",
     "output_type": "stream",
     "text": [
      "<nd>\n",
      " [[0 1 2 2 0]\n",
      " [4 0 3 0 1]\n",
      " [4 3 1 0 3]]\n",
      "<part1>\n",
      " [[0]\n",
      " [4]\n",
      " [4]]\n",
      "<part2>\n",
      " [[1]\n",
      " [0]\n",
      " [3]]\n",
      "<part3>\n",
      " [[2 2 0]\n",
      " [3 0 1]\n",
      " [1 0 3]]\n"
     ]
    }
   ],
   "source": [
    "# 指定位置切割\n",
    "nd = np.random.randint(0, 5, size = (3, 5))\n",
    "# 在第2列和第3列进行切割\n",
    "(part1, part2, part3) = np.hsplit(nd, (1, 2))\n",
    "\n",
    "print(\"<nd>\\n\", nd)\n",
    "print(\"<part1>\\n\", part1)\n",
    "print(\"<part2>\\n\", part2)\n",
    "print(\"<part3>\\n\", part3)"
   ]
  },
  {
   "cell_type": "markdown",
   "id": "be113cca",
   "metadata": {},
   "source": [
    "2.vsplit： 垂直切割。指定分割为几行，可以使用数字代表分成几个部分，也可以使用数组来代表切割的位置"
   ]
  },
  {
   "cell_type": "code",
   "execution_count": 23,
   "id": "fa8edb61",
   "metadata": {},
   "outputs": [
    {
     "name": "stdout",
     "output_type": "stream",
     "text": [
      "<nd>\n",
      " [[3 1 0]\n",
      " [2 3 3]\n",
      " [0 2 1]\n",
      " [3 4 3]]\n",
      "<part1>\n",
      " [[3 1 0]\n",
      " [2 3 3]]\n",
      "<part2>\n",
      " [[0 2 1]\n",
      " [3 4 3]]\n"
     ]
    }
   ],
   "source": [
    "# 平均切割\n",
    "nd = np.random.randint(0, 5, size = (4, 3))\n",
    "# 平均分割为2份\n",
    "# ⚠️ 如果数组的行数不能被切割数量整除，则会产生异常：array split does not result in an equal division\n",
    "(part1, part2) = np.vsplit(nd, 2)\n",
    "\n",
    "print(\"<nd>\\n\", nd)\n",
    "print(\"<part1>\\n\", part1)\n",
    "print(\"<part2>\\n\", part2)"
   ]
  },
  {
   "cell_type": "code",
   "execution_count": 26,
   "id": "3eb3528b",
   "metadata": {},
   "outputs": [
    {
     "name": "stdout",
     "output_type": "stream",
     "text": [
      "<nd>\n",
      " [[1 2 3]\n",
      " [1 4 0]\n",
      " [1 0 2]\n",
      " [0 0 4]\n",
      " [4 1 3]]\n",
      "<part1>\n",
      " [[1 2 3]]\n",
      "<part2>\n",
      " [[1 4 0]\n",
      " [1 0 2]]\n",
      "<part3>\n",
      " [[0 0 4]\n",
      " [4 1 3]]\n"
     ]
    }
   ],
   "source": [
    "# 指定位置切割\n",
    "nd = np.random.randint(0, 5, size = (5, 3))\n",
    "# 在第2行和第4行进行切割\n",
    "(part1, part2, part3) = np.vsplit(nd, (1, 3))\n",
    "\n",
    "print(\"<nd>\\n\", nd)\n",
    "print(\"<part1>\\n\", part1)\n",
    "print(\"<part2>\\n\", part2)\n",
    "print(\"<part3>\\n\", part3)"
   ]
  },
  {
   "cell_type": "markdown",
   "id": "b669e307",
   "metadata": {},
   "source": [
    "3.split：通过不同的方式进行切割\n",
    "\n",
    "axis=0 代表按行（默认）\n",
    "\n",
    "axis=1 代表按列"
   ]
  },
  {
   "cell_type": "code",
   "execution_count": 27,
   "id": "7a1129e8",
   "metadata": {},
   "outputs": [
    {
     "name": "stdout",
     "output_type": "stream",
     "text": [
      "<nd>\n",
      " [[4 0 1]\n",
      " [4 1 1]\n",
      " [4 3 4]\n",
      " [2 3 0]\n",
      " [2 2 3]]\n",
      "<part1>\n",
      " [[4 0 1]]\n",
      "<part2>\n",
      " [[4 1 1]\n",
      " [4 3 4]]\n",
      "<part3>\n",
      " [[2 3 0]\n",
      " [2 2 3]]\n"
     ]
    }
   ],
   "source": [
    "# 按行切割\n",
    "nd = np.random.randint(0, 5, size = (5, 3))\n",
    "(part1, part2, part3) = np.split(nd, (1, 3), axis = 0)\n",
    "\n",
    "print(\"<nd>\\n\", nd)\n",
    "print(\"<part1>\\n\", part1)\n",
    "print(\"<part2>\\n\", part2)\n",
    "print(\"<part3>\\n\", part3)"
   ]
  },
  {
   "cell_type": "code",
   "execution_count": 28,
   "id": "ad158b0d",
   "metadata": {},
   "outputs": [
    {
     "name": "stdout",
     "output_type": "stream",
     "text": [
      "<nd>\n",
      " [[3 4 2 2 1]\n",
      " [0 0 1 1 2]\n",
      " [3 2 1 4 3]]\n",
      "<part1>\n",
      " [[3]\n",
      " [0]\n",
      " [3]]\n",
      "<part2>\n",
      " [[4 2]\n",
      " [0 1]\n",
      " [2 1]]\n",
      "<part3>\n",
      " [[2 1]\n",
      " [1 2]\n",
      " [4 3]]\n"
     ]
    }
   ],
   "source": [
    "# 按列切割\n",
    "nd = np.random.randint(0, 5, size = (3, 5))\n",
    "(part1, part2, part3) = np.split(nd, (1, 3), axis = 1)\n",
    "\n",
    "print(\"<nd>\\n\", nd)\n",
    "print(\"<part1>\\n\", part1)\n",
    "print(\"<part2>\\n\", part2)\n",
    "print(\"<part3>\\n\", part3)"
   ]
  }
 ],
 "metadata": {
  "kernelspec": {
   "display_name": "Python 3 (ipykernel)",
   "language": "python",
   "name": "python3"
  },
  "language_info": {
   "codemirror_mode": {
    "name": "ipython",
    "version": 3
   },
   "file_extension": ".py",
   "mimetype": "text/x-python",
   "name": "python",
   "nbconvert_exporter": "python",
   "pygments_lexer": "ipython3",
   "version": "3.7.12"
  }
 },
 "nbformat": 4,
 "nbformat_minor": 5
}
