{
 "cells": [
  {
   "cell_type": "code",
   "execution_count": 7,
   "id": "024d29ec",
   "metadata": {},
   "outputs": [],
   "source": [
    "import numpy as np"
   ]
  },
  {
   "cell_type": "markdown",
   "id": "a6900bf7",
   "metadata": {},
   "source": [
    "### Python中的列表"
   ]
  },
  {
   "cell_type": "code",
   "execution_count": 8,
   "id": "6b07b2e9",
   "metadata": {},
   "outputs": [
    {
     "data": {
      "text/plain": [
       "[1, 2, 3, '4']"
      ]
     },
     "execution_count": 8,
     "metadata": {},
     "output_type": "execute_result"
    }
   ],
   "source": [
    "# Python中的列表，可以存放数据类型不同的元素\n",
    "a = [1, 2, 3, '4']\n",
    "a"
   ]
  },
  {
   "cell_type": "markdown",
   "id": "5e84db9d",
   "metadata": {},
   "source": [
    "### Numpy中的数组"
   ]
  },
  {
   "cell_type": "code",
   "execution_count": 14,
   "id": "92a6c793",
   "metadata": {},
   "outputs": [
    {
     "data": {
      "text/plain": [
       "array(['1', '2', '3', '4'], dtype='<U21')"
      ]
     },
     "execution_count": 14,
     "metadata": {},
     "output_type": "execute_result"
    }
   ],
   "source": [
    "# 通过Python列表构建Numpy数组\n",
    "# ⚠️ 如果列表中有一个元素为字符串，则转换的Numpy数组中所有的元素均为字符串\n",
    "# ⚠️ 虽然列表中可以有不同元素，但仍然建议所有元素类型统一，避免框架自动类型转换\n",
    "b = np.array(a)\n",
    "b"
   ]
  },
  {
   "cell_type": "markdown",
   "id": "c1f7483b",
   "metadata": {},
   "source": [
    "### 创建数组的方式"
   ]
  },
  {
   "cell_type": "code",
   "execution_count": 29,
   "id": "3489d193",
   "metadata": {},
   "outputs": [
    {
     "name": "stdout",
     "output_type": "stream",
     "text": [
      "<arr1> [1 0 1 0]\n",
      "<arr1 type> <class 'numpy.ndarray'>\n"
     ]
    }
   ],
   "source": [
    "# 方式一：通过列表创建数组\n",
    "arr1 = np.array([1, 0, 1, 0])\n",
    "print(\"<arr1>\", arr1)\n",
    "# numpy数组类型<numpy.ndarray>\n",
    "print(\"<arr1 type>\", type(arr1))"
   ]
  },
  {
   "cell_type": "code",
   "execution_count": 30,
   "id": "ef4466d5",
   "metadata": {},
   "outputs": [
    {
     "name": "stdout",
     "output_type": "stream",
     "text": [
      "<arr2> [0 1 2 3 4 5 6 7 8 9]\n",
      "<arr3> [20 22 24 26 28]\n"
     ]
    }
   ],
   "source": [
    "# 方式二：通过序列快速创建数组（使用arange函数）\n",
    "# 创建一个[0, 10)区间默认步长为1的整数数组\n",
    "arr2 = np.arange(10)\n",
    "print(\"<arr2>\", arr2)\n",
    "# 创建一个[20, 30)区间步长为2的整数数组\n",
    "arr3 = np.arange(20, 30, 2)\n",
    "print(\"<arr3>\", arr3)"
   ]
  },
  {
   "cell_type": "code",
   "execution_count": 36,
   "id": "60fd88a2",
   "metadata": {},
   "outputs": [
    {
     "name": "stdout",
     "output_type": "stream",
     "text": [
      "<arr4>\n",
      " [[0.1149907  0.77687515]\n",
      " [0.28884707 0.11803274]]\n",
      "<arr5>\n",
      " [[2 0 2]\n",
      " [1 2 2]\n",
      " [3 0 8]]\n"
     ]
    }
   ],
   "source": [
    "# 方式三：通过随机方式创建数组（使用np.random模块）\n",
    "# 创建一个2✖️2的随机数组（默认类型为浮点型），元素取值范围默认为：[0, 1)\n",
    "arr4 = np.random.random((2, 2))\n",
    "print(\"<arr4>\\n\", arr4)\n",
    "# 创建一个3✖️3的随机整数数组，元素取值范围：[0, 10)\n",
    "arr5 = np.random.randint(0, 10, size = (3, 3))\n",
    "print(\"<arr5>\\n\", arr5)"
   ]
  },
  {
   "cell_type": "code",
   "execution_count": 42,
   "id": "2bd9fb6e",
   "metadata": {},
   "outputs": [
    {
     "name": "stdout",
     "output_type": "stream",
     "text": [
      "<a1>\n",
      " [[0. 0. 0.]\n",
      " [0. 0. 0.]]\n",
      "<a2>\n",
      " [[1. 1.]\n",
      " [1. 1.]\n",
      " [1. 1.]]\n",
      "<a3>\n",
      " [[6 6]\n",
      " [6 6]]\n",
      "<m>\n",
      " [[1. 0. 0.]\n",
      " [0. 1. 0.]\n",
      " [0. 0. 1.]]\n"
     ]
    }
   ],
   "source": [
    "# 方式四：使用函数生成特殊数组\n",
    "# 生成一个2✖️3的全0数组\n",
    "a1 = np.zeros((2, 3))\n",
    "print(\"<a1>\\n\", a1)\n",
    "# 生成一个3✖️2的全1数组\n",
    "a2 = np.ones((3, 2))\n",
    "print(\"<a2>\\n\", a2)\n",
    "# 生成一个2✖️2的全6数组\n",
    "a3 = np.full((2, 2), 6)\n",
    "print(\"<a3>\\n\", a3)\n",
    "# 生成一个3✖️3的对角矩阵，且对角线元素为1\n",
    "m = np.eye(3)\n",
    "print(\"<m>\\n\", m)"
   ]
  },
  {
   "cell_type": "markdown",
   "id": "2d20706f",
   "metadata": {},
   "source": [
    "### 数组的数据类型"
   ]
  },
  {
   "cell_type": "code",
   "execution_count": 49,
   "id": "bcc6adf1",
   "metadata": {},
   "outputs": [
    {
     "name": "stdout",
     "output_type": "stream",
     "text": [
      "<i dtype> int64\n",
      "<d dtype> float64\n"
     ]
    }
   ],
   "source": [
    "i = np.arange(5)\n",
    "# numpy.ndarray中可以通过dtype属性查看数组中元素类型\n",
    "print(\"<i dtype>\", i.dtype)\n",
    "\n",
    "d = np.array([1.0, 2.1, 3.1])\n",
    "print(\"<d dtype>\", d.dtype)"
   ]
  },
  {
   "cell_type": "code",
   "execution_count": 56,
   "id": "903523dc",
   "metadata": {},
   "outputs": [
    {
     "name": "stdout",
     "output_type": "stream",
     "text": [
      "<v1 dtype> int32\n",
      "<v2 dtype> float16\n",
      "<v3 dtype> object\n",
      "<v4> [b'1' b'2' b'3' b'4']\n",
      "<v4 dtype> |S1\n",
      "<v5> ['1' '2' '3' '4']\n",
      "<v5 dtype> <U1\n"
     ]
    }
   ],
   "source": [
    "# 指定元素类型创建数组\n",
    "# 整数类型\n",
    "v1 = np.array([1, 2, 3, 4], dtype = 'i')\n",
    "print(\"<v1 dtype>\", v1.dtype)\n",
    "\n",
    "# 浮点类型\n",
    "v2 = np.array([1, 2, 3, 4], dtype = np.float16)\n",
    "print(\"<v2 dtype>\", v2.dtype)\n",
    "\n",
    "# 复合类型\n",
    "class Person:\n",
    "    def __init__(self ,name, age):\n",
    "        self.name = name\n",
    "        self.age = age\n",
    "        \n",
    "v3 = np.array([Person(\"a\", 1), Person(\"b\", 2)])\n",
    "print(\"<v3 dtype>\", v3.dtype)\n",
    "\n",
    "# 字符串（二进制）\n",
    "v4 = np.array(['1', '2', '3', '4'], dtype = 'S')\n",
    "print(\"<v4>\", v4)\n",
    "# |S1 表示字符串的二进制表现形式\n",
    "print(\"<v4 dtype>\", v4.dtype)\n",
    "\n",
    "# 字符串（Unicode）\n",
    "v5 = np.array(['1', '2', '3', '4'])\n",
    "print(\"<v5>\", v5)\n",
    "# <U1\n",
    "print(\"<v5 dtype>\", v5.dtype)"
   ]
  },
  {
   "cell_type": "code",
   "execution_count": 57,
   "id": "d891f9cd",
   "metadata": {},
   "outputs": [
    {
     "name": "stdout",
     "output_type": "stream",
     "text": [
      "<a> [1 2 3 4]\n",
      "<a dtype> int64\n",
      "<b> ['1' '2' '3' '4']\n",
      "<b dtype> <U21\n"
     ]
    }
   ],
   "source": [
    "# 数据类型强转\n",
    "a = np.array([1, 2, 3, 4])\n",
    "b = a.astype(\"U\")\n",
    "print(\"<a>\", a)\n",
    "print(\"<a dtype>\", a.dtype)\n",
    "print(\"<b>\", b)\n",
    "print(\"<b dtype>\", b.dtype)"
   ]
  }
 ],
 "metadata": {
  "kernelspec": {
   "display_name": "Python 3 (ipykernel)",
   "language": "python",
   "name": "python3"
  },
  "language_info": {
   "codemirror_mode": {
    "name": "ipython",
    "version": 3
   },
   "file_extension": ".py",
   "mimetype": "text/x-python",
   "name": "python",
   "nbconvert_exporter": "python",
   "pygments_lexer": "ipython3",
   "version": "3.7.12"
  }
 },
 "nbformat": 4,
 "nbformat_minor": 5
}
