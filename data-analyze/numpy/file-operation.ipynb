{
 "cells": [
  {
   "cell_type": "code",
   "execution_count": 1,
   "id": "5287bd69",
   "metadata": {},
   "outputs": [],
   "source": [
    "import numpy as np"
   ]
  },
  {
   "cell_type": "markdown",
   "id": "e4fe83ef",
   "metadata": {},
   "source": [
    "### 操作CSV文件"
   ]
  },
  {
   "cell_type": "code",
   "execution_count": 4,
   "id": "5c7eebba",
   "metadata": {},
   "outputs": [
    {
     "data": {
      "text/plain": [
       "array([[87, 83],\n",
       "       [86, 88],\n",
       "       [80, 89],\n",
       "       [88, 98],\n",
       "       [93, 84]])"
      ]
     },
     "execution_count": 4,
     "metadata": {},
     "output_type": "execute_result"
    }
   ],
   "source": [
    "score = np.random.randint(80, 100, size = (50, 2))\n",
    "score[:5,:]"
   ]
  },
  {
   "cell_type": "markdown",
   "id": "4ff3c4c6",
   "metadata": {},
   "source": [
    "#### 1.保存文件"
   ]
  },
  {
   "cell_type": "code",
   "execution_count": 7,
   "id": "aa5735fa",
   "metadata": {},
   "outputs": [],
   "source": [
    "# fmt设置为%d，为了防止保存整数保存文件之后禁用科学记数法\n",
    "# comments设置为“”，为了防止保存的表头没有#号\n",
    "np.savetxt(\"score.csv\", score, delimiter = \",\", header = \"Math,English\", comments = \"\", fmt = \"%d\")"
   ]
  },
  {
   "cell_type": "markdown",
   "id": "8480daaa",
   "metadata": {},
   "source": [
    "#### 2.读取文件"
   ]
  },
  {
   "cell_type": "code",
   "execution_count": 12,
   "id": "3611ded0",
   "metadata": {},
   "outputs": [
    {
     "data": {
      "text/plain": [
       "array([[87, 83],\n",
       "       [86, 88],\n",
       "       [80, 89],\n",
       "       [88, 98],\n",
       "       [93, 84],\n",
       "       [89, 98],\n",
       "       [85, 89],\n",
       "       [94, 92],\n",
       "       [82, 81],\n",
       "       [87, 90]])"
      ]
     },
     "execution_count": 12,
     "metadata": {},
     "output_type": "execute_result"
    }
   ],
   "source": [
    "# dtype指定读取的数据类型\n",
    "# delimiter指定读取数据的分割符\n",
    "# skiprows指定读取数据时跳过几行进行读取，因为这里读取文件的第一行是表头\n",
    "_score = np.loadtxt(\"./data/score.csv\", dtype = np.int64, delimiter = \",\", skiprows = 1)\n",
    "_score[:10,:]"
   ]
  },
  {
   "cell_type": "markdown",
   "id": "d6cd2510",
   "metadata": {},
   "source": [
    "### numpy原生的文件存储\n",
    "\n",
    "numpy原生的文件存储可以读写高维数组，而通过csv的文件存储只能读写二维数组"
   ]
  },
  {
   "cell_type": "markdown",
   "id": "a3f4f3d7",
   "metadata": {},
   "source": [
    "#### 1.保存\n",
    "\n",
    "save方法保存的是.npy文件\n",
    "\n",
    "savez方法保存的是.npz文件，该文件是经过压缩的"
   ]
  },
  {
   "cell_type": "code",
   "execution_count": 16,
   "id": "09fc7ce0",
   "metadata": {},
   "outputs": [],
   "source": [
    "score = np.random.randint(0, 10, size = (2, 2, 2))\n",
    "np.save(\"./data/score\", score)"
   ]
  },
  {
   "cell_type": "markdown",
   "id": "4ad71aa5",
   "metadata": {},
   "source": [
    "#### 2.读取"
   ]
  },
  {
   "cell_type": "code",
   "execution_count": 17,
   "id": "4a04a2c4",
   "metadata": {},
   "outputs": [
    {
     "data": {
      "text/plain": [
       "array([[[7, 1],\n",
       "        [4, 6]],\n",
       "\n",
       "       [[7, 6],\n",
       "        [3, 0]]])"
      ]
     },
     "execution_count": 17,
     "metadata": {},
     "output_type": "execute_result"
    }
   ],
   "source": [
    "np.load(\"./data/score.npy\")"
   ]
  },
  {
   "cell_type": "code",
   "execution_count": null,
   "id": "c843564f",
   "metadata": {},
   "outputs": [],
   "source": []
  }
 ],
 "metadata": {
  "kernelspec": {
   "display_name": "Python 3 (ipykernel)",
   "language": "python",
   "name": "python3"
  },
  "language_info": {
   "codemirror_mode": {
    "name": "ipython",
    "version": 3
   },
   "file_extension": ".py",
   "mimetype": "text/x-python",
   "name": "python",
   "nbconvert_exporter": "python",
   "pygments_lexer": "ipython3",
   "version": "3.7.12"
  }
 },
 "nbformat": 4,
 "nbformat_minor": 5
}
