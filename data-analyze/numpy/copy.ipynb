{
 "cells": [
  {
   "cell_type": "code",
   "execution_count": 1,
   "id": "77612037",
   "metadata": {},
   "outputs": [],
   "source": [
    "import numpy as np"
   ]
  },
  {
   "cell_type": "markdown",
   "id": "11003df9",
   "metadata": {},
   "source": [
    "### 不拷贝\n",
    "\n",
    "直接赋值的方式指向堆区同一块数据"
   ]
  },
  {
   "cell_type": "code",
   "execution_count": 4,
   "id": "afb1111e",
   "metadata": {},
   "outputs": [
    {
     "name": "stdout",
     "output_type": "stream",
     "text": [
      "<b == a> True\n",
      "a =  [100   1   2   3   4   5   6   7   8   9  10  11]\n",
      "b =  [100   1   2   3   4   5   6   7   8   9  10  11]\n"
     ]
    }
   ],
   "source": [
    "a = np.arange(12)\n",
    "b = a\n",
    "print(\"<b == a>\", b is a)\n",
    "\n",
    "# 尝试修改查看原来的对象是否改变，来证明是不是深拷贝\n",
    "a[0] = 100\n",
    "print(\"a = \", a)\n",
    "print(\"b = \", b)"
   ]
  },
  {
   "cell_type": "markdown",
   "id": "0c8a16b8",
   "metadata": {},
   "source": [
    "### view方法进行浅拷贝\n",
    "\n",
    "这种方式只会进行变量拷贝，即只会拷贝栈区数据，不会拷贝堆区数据"
   ]
  },
  {
   "cell_type": "code",
   "execution_count": 6,
   "id": "5356e743",
   "metadata": {},
   "outputs": [
    {
     "name": "stdout",
     "output_type": "stream",
     "text": [
      "<b == a> False\n",
      "a =  [100   1   2   3   4   5   6   7   8   9  10  11]\n",
      "b =  [100   1   2   3   4   5   6   7   8   9  10  11]\n"
     ]
    }
   ],
   "source": [
    "a = np.arange(12)\n",
    "b = a.view()\n",
    "print(\"<b == a>\", b is a)\n",
    "\n",
    "# 尝试修改之后 查看原来的对象发生了改变，证明view方法不是深拷贝\n",
    "a[0] = 100\n",
    "print(\"a = \", a)\n",
    "print(\"b = \", b)"
   ]
  },
  {
   "cell_type": "markdown",
   "id": "2d96f25c",
   "metadata": {},
   "source": [
    "### copy方法进行深拷贝\n",
    "\n",
    "这种方式会将栈区和堆区的数据一起拷贝"
   ]
  },
  {
   "cell_type": "code",
   "execution_count": 7,
   "id": "3f48ce67",
   "metadata": {},
   "outputs": [
    {
     "name": "stdout",
     "output_type": "stream",
     "text": [
      "<b == a> False\n",
      "a =  [100   1   2   3   4   5   6   7   8   9  10  11]\n",
      "b =  [ 0  1  2  3  4  5  6  7  8  9 10 11]\n"
     ]
    }
   ],
   "source": [
    "a = np.arange(12)\n",
    "b = a.copy()\n",
    "print(\"<b == a>\", b is a)\n",
    "\n",
    "# 尝试修改之后 查看原来的对象没有发生改变，证明copy方法是深拷贝\n",
    "a[0] = 100\n",
    "print(\"a = \", a)\n",
    "print(\"b = \", b)"
   ]
  },
  {
   "cell_type": "markdown",
   "id": "c7317549",
   "metadata": {},
   "source": [
    "### ravel方法和flatten方法"
   ]
  },
  {
   "cell_type": "markdown",
   "id": "022609f5",
   "metadata": {},
   "source": [
    "ravel方法是浅拷贝"
   ]
  },
  {
   "cell_type": "code",
   "execution_count": 12,
   "id": "a1404ffb",
   "metadata": {},
   "outputs": [
    {
     "name": "stdout",
     "output_type": "stream",
     "text": [
      "<a>\n",
      " [[100   1   2   3]\n",
      " [  4   5   6   7]\n",
      " [  8   9  10  11]]\n",
      "<b>\n",
      " [100   1   2   3   4   5   6   7   8   9  10  11]\n"
     ]
    }
   ],
   "source": [
    "a = np.arange(12).reshape((3, 4))\n",
    "b = a.ravel()\n",
    "\n",
    "# 修改新的数组会改变原来的数组，证明指向的是堆区同一块数据，则为浅拷贝\n",
    "b[0] = 100\n",
    "print(\"<a>\\n\", a)\n",
    "print(\"<b>\\n\", b)"
   ]
  },
  {
   "cell_type": "markdown",
   "id": "f8dfe38a",
   "metadata": {},
   "source": [
    "flatten方法是深拷贝"
   ]
  },
  {
   "cell_type": "code",
   "execution_count": 13,
   "id": "8b23baf5",
   "metadata": {},
   "outputs": [
    {
     "name": "stdout",
     "output_type": "stream",
     "text": [
      "<a>\n",
      " [[ 0  1  2  3]\n",
      " [ 4  5  6  7]\n",
      " [ 8  9 10 11]]\n",
      "<b>\n",
      " [100   1   2   3   4   5   6   7   8   9  10  11]\n"
     ]
    }
   ],
   "source": [
    "a = np.arange(12).reshape((3, 4))\n",
    "b = a.flatten()\n",
    "\n",
    "# 修改新的数组会改变原来的数组，证明指向的不是堆区同一块数据，则为深拷贝\n",
    "b[0] = 100\n",
    "print(\"<a>\\n\", a)\n",
    "print(\"<b>\\n\", b)"
   ]
  },
  {
   "cell_type": "code",
   "execution_count": null,
   "id": "472c8570",
   "metadata": {},
   "outputs": [],
   "source": []
  }
 ],
 "metadata": {
  "kernelspec": {
   "display_name": "Python 3 (ipykernel)",
   "language": "python",
   "name": "python3"
  },
  "language_info": {
   "codemirror_mode": {
    "name": "ipython",
    "version": 3
   },
   "file_extension": ".py",
   "mimetype": "text/x-python",
   "name": "python",
   "nbconvert_exporter": "python",
   "pygments_lexer": "ipython3",
   "version": "3.7.12"
  }
 },
 "nbformat": 4,
 "nbformat_minor": 5
}
