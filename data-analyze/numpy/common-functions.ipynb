{
 "cells": [
  {
   "cell_type": "code",
   "execution_count": 3,
   "id": "d2f28b2a-98e9-43cb-97aa-ef71cf68f920",
   "metadata": {},
   "outputs": [],
   "source": [
    "import numpy as np"
   ]
  },
  {
   "cell_type": "markdown",
   "id": "bfa9367c-caa3-4112-9686-f7188637d07e",
   "metadata": {},
   "source": [
    "## 对axis轴的理解\n",
    "\n",
    "通常而言，在numpy中之前可以简单的理解为：axis=0代表行， axis=1代表列。这样的理解是便于记忆，其实是不对的。\n",
    "\n",
    "在numpy中，最外面的括号代表axis=0，依次往里的括号对应的axis的计数就依次累加1。比如我们有如下的二维数组：\n",
    "\n",
    "```shell\n",
    "[                # 这里的[]代表axis=0\n",
    "  [0, 2, 1],     # 这里的[]代表axis=1\n",
    "  [3, 4, 1]      # 这里的[]代表axis=1\n",
    "]\n",
    "```\n",
    "\n",
    "也就是说对于二维数组而言，最外面的括号代表：axis=0，最里面的两个子括号代表：axis=1。\n",
    "\n",
    "对于运算方式而言，如果指定的轴进行相关操作，那么会使用轴下的每个直接子元素的第0个，第1个...分别进行相关的运算操作。"
   ]
  },
  {
   "cell_type": "code",
   "execution_count": 6,
   "id": "6b1fa224-65db-4e11-b469-9eb3b27cb995",
   "metadata": {},
   "outputs": [
    {
     "data": {
      "text/plain": [
       "array([[0, 1],\n",
       "       [2, 3]])"
      ]
     },
     "execution_count": 6,
     "metadata": {},
     "output_type": "execute_result"
    }
   ],
   "source": [
    "arr = np.arange(4).reshape(2, 2)\n",
    "arr"
   ]
  },
  {
   "cell_type": "code",
   "execution_count": 8,
   "id": "858a227c-b045-4558-815f-454cc21deb7a",
   "metadata": {},
   "outputs": [
    {
     "data": {
      "text/plain": [
       "array([2, 4])"
      ]
     },
     "execution_count": 8,
     "metadata": {},
     "output_type": "execute_result"
    }
   ],
   "source": [
    "# ❓ 如何理解按照axis=0方式求和\n",
    "# axis=0方式下的直接子元素为：[0, 1]，[2, 3]\n",
    "# 则子元素的第0个元素，第1个元素分别求和，即：0 + 2 = 2，1 + 3 = 4 \n",
    "# 最后的计算结果为：[2, 4]\n",
    "np.sum(arr, axis = 0)"
   ]
  },
  {
   "cell_type": "code",
   "execution_count": 10,
   "id": "f636bd58-4502-4376-bf65-2a468b7ca429",
   "metadata": {},
   "outputs": [
    {
     "data": {
      "text/plain": [
       "array([1, 5])"
      ]
     },
     "execution_count": 10,
     "metadata": {},
     "output_type": "execute_result"
    }
   ],
   "source": [
    "# ❓ 如何理解按照axis=1方式求和\n",
    "# axis=1方式下的直接子元素为：0和1 以及 2和3\n",
    "# 则子元素的第0个元素，第1个元素分别求和，即：0 + 1 = 1，2 + 3 = 5\n",
    "# 最后的计算结果为：[1, 5]\n",
    "np.sum(arr, axis = 1)"
   ]
  },
  {
   "cell_type": "code",
   "execution_count": 13,
   "id": "c5b95dca-f531-4cd2-81af-48b8187b92fb",
   "metadata": {},
   "outputs": [
    {
     "name": "stdout",
     "output_type": "stream",
     "text": [
      "<arr1> \n",
      " [[0 3 1 3]\n",
      " [3 4 1 9]]\n"
     ]
    },
    {
     "data": {
      "text/plain": [
       "array([[0, 3, 1, 3],\n",
       "       [3, 4, 1, 9]])"
      ]
     },
     "execution_count": 13,
     "metadata": {},
     "output_type": "execute_result"
    }
   ],
   "source": [
    "# ⚠️ 这里唯一的特例是delete函数\n",
    "arr1 = np.array([[0,3,1,3], [3,4,1,9]])\n",
    "print(\"<arr1> \\n\", arr1)\n",
    "# axis=0方式下的直接子元素为：[0 3 1 3] 以及 [3 4 1 9]\n",
    "# 这里的0表示删除直接子元素中的第0个元素，即删除了[0 3 1 3]\n",
    "np.delete(arr1, 0, axis = 0)"
   ]
  },
  {
   "cell_type": "code",
   "execution_count": 14,
   "id": "050b2a8b-ada0-4ad5-b9d6-b25fb0c2a807",
   "metadata": {},
   "outputs": [
    {
     "name": "stdout",
     "output_type": "stream",
     "text": [
      "<arr2> \n",
      " [[0 3 1 3]\n",
      " [3 4 1 9]]\n"
     ]
    },
    {
     "data": {
      "text/plain": [
       "array([[0, 1, 3],\n",
       "       [3, 1, 9]])"
      ]
     },
     "execution_count": 14,
     "metadata": {},
     "output_type": "execute_result"
    }
   ],
   "source": [
    "arr2 = np.array([[0,3,1,3], [3,4,1,9]])\n",
    "print(\"<arr2> \\n\", arr1)\n",
    "# axis=1方式下的直接子元素为：\n",
    "#       对于[0 3 1 3]来说直接子元素为0，3，1和3\n",
    "#       对于[3 4 1 9]来说直接子元素为3，4，1和9\n",
    "# 这里的1表示删除直接子元素中的第1个元素：\n",
    "#       对于[0 3 1 3]来说删除第1个直接子元素为3\n",
    "#       对于[3 4 1 9]来说删除第1个直接子元素为4\n",
    "np.delete(arr1, 1, axis = 1)"
   ]
  },
  {
   "cell_type": "markdown",
   "id": "31459d64-61eb-450f-91eb-90d0bc6b4e5f",
   "metadata": {},
   "source": [
    "## 常用函数\n",
    "\n",
    "更多常用的函数可以参考：https://numpy.org/doc/stable/reference/routines.html\n",
    "\n",
    "### 一.一元函数"
   ]
  },
  {
   "cell_type": "code",
   "execution_count": 15,
   "id": "5b2ebfb0-04a2-47ce-b37a-fa3e2ea86137",
   "metadata": {},
   "outputs": [
    {
     "data": {
      "text/plain": [
       "array([[-5.75451249, -9.09896956, -9.76757787, -9.0773475 ,  3.17405444],\n",
       "       [ 4.24497658, -4.88536644, -1.10787756,  5.89263953, -0.77042566],\n",
       "       [ 5.06660018, -1.74982955, -2.10423537, -5.80588756, -3.12374683]])"
      ]
     },
     "execution_count": 15,
     "metadata": {},
     "output_type": "execute_result"
    }
   ],
   "source": [
    "arr = np.random.uniform(-10, 10, size = (3, 5))\n",
    "arr"
   ]
  },
  {
   "cell_type": "code",
   "execution_count": 16,
   "id": "3455ec81-1850-45a8-bcbe-b4f6bbd438a2",
   "metadata": {},
   "outputs": [
    {
     "data": {
      "text/plain": [
       "array([[5.75451249, 9.09896956, 9.76757787, 9.0773475 , 3.17405444],\n",
       "       [4.24497658, 4.88536644, 1.10787756, 5.89263953, 0.77042566],\n",
       "       [5.06660018, 1.74982955, 2.10423537, 5.80588756, 3.12374683]])"
      ]
     },
     "execution_count": 16,
     "metadata": {},
     "output_type": "execute_result"
    }
   ],
   "source": [
    "# 绝对值\n",
    "np.abs(arr)"
   ]
  },
  {
   "cell_type": "code",
   "execution_count": 17,
   "id": "85a1b536-c2f8-412b-a68c-a700bf0c0155",
   "metadata": {},
   "outputs": [
    {
     "name": "stderr",
     "output_type": "stream",
     "text": [
      "/var/folders/t3/zgt5wqcj5s14xr29jbl1yhrm0000gn/T/ipykernel_7117/3583601875.py:2: RuntimeWarning: invalid value encountered in sqrt\n",
      "  np.sqrt(arr)\n"
     ]
    },
    {
     "data": {
      "text/plain": [
       "array([[       nan,        nan,        nan,        nan, 1.78158762],\n",
       "       [2.0603341 ,        nan,        nan, 2.42747596,        nan],\n",
       "       [2.25091097,        nan,        nan,        nan,        nan]])"
      ]
     },
     "execution_count": 17,
     "metadata": {},
     "output_type": "execute_result"
    }
   ],
   "source": [
    "# 开平方跟\n",
    "np.sqrt(arr)"
   ]
  },
  {
   "cell_type": "code",
   "execution_count": 19,
   "id": "cec9b0a7-05a7-4477-8f2c-fb847080326c",
   "metadata": {},
   "outputs": [
    {
     "data": {
      "text/plain": [
       "array([[33.11441397, 82.79124714, 95.40557737, 82.39823758, 10.07462159],\n",
       "       [18.0198262 , 23.8668053 ,  1.22739268, 34.72320065,  0.59355569],\n",
       "       [25.67043738,  3.06190346,  4.4278065 , 33.70833042,  9.75779427]])"
      ]
     },
     "execution_count": 19,
     "metadata": {},
     "output_type": "execute_result"
    }
   ],
   "source": [
    "# 平方\n",
    "np.square(arr)"
   ]
  },
  {
   "cell_type": "code",
   "execution_count": 20,
   "id": "6ade918c-f679-4b21-b96d-322183b3c03d",
   "metadata": {},
   "outputs": [
    {
     "data": {
      "text/plain": [
       "array([[3.16845089e-03, 1.11780932e-04, 5.72789214e-05, 1.14224186e-04,\n",
       "        2.39042063e+01],\n",
       "       [6.97541267e+01, 7.55635427e-03, 3.30259174e-01, 3.62360485e+02,\n",
       "        4.62816025e-01],\n",
       "       [1.58634082e+02, 1.73803565e-01, 1.21938876e-01, 3.00978219e-03,\n",
       "        4.39920285e-02]])"
      ]
     },
     "execution_count": 20,
     "metadata": {},
     "output_type": "execute_result"
    }
   ],
   "source": [
    "# e指数\n",
    "np.exp(arr)"
   ]
  },
  {
   "cell_type": "code",
   "execution_count": 21,
   "id": "3b13e1b0-55c8-45fb-bf08-c0eea4b32a0c",
   "metadata": {},
   "outputs": [
    {
     "name": "stderr",
     "output_type": "stream",
     "text": [
      "/var/folders/t3/zgt5wqcj5s14xr29jbl1yhrm0000gn/T/ipykernel_7117/2394908553.py:2: RuntimeWarning: invalid value encountered in log\n",
      "  np.log(arr)\n"
     ]
    },
    {
     "data": {
      "text/plain": [
       "array([[       nan,        nan,        nan,        nan, 1.15500977],\n",
       "       [1.4457363 ,        nan,        nan, 1.77370404,        nan],\n",
       "       [1.62267002,        nan,        nan,        nan,        nan]])"
      ]
     },
     "execution_count": 21,
     "metadata": {},
     "output_type": "execute_result"
    }
   ],
   "source": [
    "# 对数\n",
    "np.log(arr)"
   ]
  },
  {
   "cell_type": "code",
   "execution_count": 22,
   "id": "d6f1554c-a092-4f51-92ce-556cf039614f",
   "metadata": {},
   "outputs": [
    {
     "data": {
      "text/plain": [
       "array([[-1., -1., -1., -1.,  1.],\n",
       "       [ 1., -1., -1.,  1., -1.],\n",
       "       [ 1., -1., -1., -1., -1.]])"
      ]
     },
     "execution_count": 22,
     "metadata": {},
     "output_type": "execute_result"
    }
   ],
   "source": [
    "# 符号函数\n",
    "# > 0 => 1\n",
    "# = 0 => 0\n",
    "# < 0 => -1\n",
    "np.sign(arr)"
   ]
  },
  {
   "cell_type": "code",
   "execution_count": 25,
   "id": "2b7df5cb-91a8-457f-80eb-2ef7345986d6",
   "metadata": {},
   "outputs": [
    {
     "data": {
      "text/plain": [
       "(array([[-0.75451249, -0.09896956, -0.76757787, -0.0773475 ,  0.17405444],\n",
       "        [ 0.24497658, -0.88536644, -0.10787756,  0.89263953, -0.77042566],\n",
       "        [ 0.06660018, -0.74982955, -0.10423537, -0.80588756, -0.12374683]]),\n",
       " array([[-5., -9., -9., -9.,  3.],\n",
       "        [ 4., -4., -1.,  5., -0.],\n",
       "        [ 5., -1., -2., -5., -3.]]))"
      ]
     },
     "execution_count": 25,
     "metadata": {},
     "output_type": "execute_result"
    }
   ],
   "source": [
    "# 整数和小数分离\n",
    "np.modf(arr)"
   ]
  },
  {
   "cell_type": "code",
   "execution_count": 26,
   "id": "0c11a6e9-0156-42e8-a5fa-31c3911d7a4b",
   "metadata": {},
   "outputs": [
    {
     "data": {
      "text/plain": [
       "array([[False, False, False, False, False],\n",
       "       [False, False, False, False, False],\n",
       "       [False, False, False, False, False]])"
      ]
     },
     "execution_count": 26,
     "metadata": {},
     "output_type": "execute_result"
    }
   ],
   "source": [
    "# 判断是不是数值\n",
    "np.isnan(arr)"
   ]
  },
  {
   "cell_type": "code",
   "execution_count": 27,
   "id": "5b3c0066-9464-4478-90d4-104c3d4ad363",
   "metadata": {},
   "outputs": [
    {
     "data": {
      "text/plain": [
       "array([[False, False, False, False, False],\n",
       "       [False, False, False, False, False],\n",
       "       [False, False, False, False, False]])"
      ]
     },
     "execution_count": 27,
     "metadata": {},
     "output_type": "execute_result"
    }
   ],
   "source": [
    "# 判断是否是无穷大\n",
    "np.isinf(arr)"
   ]
  },
  {
   "cell_type": "markdown",
   "id": "1865d795-7836-41ed-81ca-967161670ac7",
   "metadata": {},
   "source": [
    "### 二.二元函数"
   ]
  },
  {
   "cell_type": "code",
   "execution_count": 28,
   "id": "83d5d173-1a2a-45ef-aca5-b3f5799b3b7d",
   "metadata": {},
   "outputs": [
    {
     "data": {
      "text/plain": [
       "array([[-4.75451249, -8.09896956, -8.76757787, -8.0773475 ,  4.17405444],\n",
       "       [ 5.24497658, -3.88536644, -0.10787756,  6.89263953,  0.22957434],\n",
       "       [ 6.06660018, -0.74982955, -1.10423537, -4.80588756, -2.12374683]])"
      ]
     },
     "execution_count": 28,
     "metadata": {},
     "output_type": "execute_result"
    }
   ],
   "source": [
    "# 加法\n",
    "np.add(arr, 1)"
   ]
  },
  {
   "cell_type": "code",
   "execution_count": 29,
   "id": "07c23dce-903a-41f2-b82e-89958b0f1f01",
   "metadata": {},
   "outputs": [
    {
     "data": {
      "text/plain": [
       "array([[False, False, False, False,  True],\n",
       "       [ True, False, False,  True, False],\n",
       "       [ True, False, False, False, False]])"
      ]
     },
     "execution_count": 29,
     "metadata": {},
     "output_type": "execute_result"
    }
   ],
   "source": [
    "# >\n",
    "np.greater(arr, 0)"
   ]
  },
  {
   "cell_type": "code",
   "execution_count": 30,
   "id": "0a766bb1-cc05-416a-ab89-30ea98856ceb",
   "metadata": {},
   "outputs": [
    {
     "data": {
      "text/plain": [
       "array([[False, False, False, False,  True],\n",
       "       [ True, False, False, False, False],\n",
       "       [False, False, False, False, False]])"
      ]
     },
     "execution_count": 30,
     "metadata": {},
     "output_type": "execute_result"
    }
   ],
   "source": [
    "# &&\n",
    "np.logical_and(arr > 0, arr < 5)"
   ]
  },
  {
   "cell_type": "code",
   "execution_count": 31,
   "id": "1cd633eb-7b1c-4441-af75-db627409a382",
   "metadata": {},
   "outputs": [
    {
     "data": {
      "text/plain": [
       "array([[False, False, False, False,  True],\n",
       "       [ True, False, False, False, False],\n",
       "       [False, False, False, False, False]])"
      ]
     },
     "execution_count": 31,
     "metadata": {},
     "output_type": "execute_result"
    }
   ],
   "source": [
    "# ||\n",
    "np.logical_and(arr > 0, arr < 5)"
   ]
  },
  {
   "cell_type": "markdown",
   "id": "bf92209a-d1b9-4f79-b218-0e5dcb941551",
   "metadata": {},
   "source": [
    "### 三.聚合函数"
   ]
  },
  {
   "cell_type": "code",
   "execution_count": 32,
   "id": "54e3baab-194f-4824-85bd-e50e0d1f3e76",
   "metadata": {},
   "outputs": [
    {
     "data": {
      "text/plain": [
       "-34.86750565819829"
      ]
     },
     "execution_count": 32,
     "metadata": {},
     "output_type": "execute_result"
    }
   ],
   "source": [
    "# 默认求所有元素的和\n",
    "np.sum(arr)"
   ]
  },
  {
   "cell_type": "code",
   "execution_count": 33,
   "id": "905e7e71-02ac-4d45-86bd-c71061c43ad9",
   "metadata": {},
   "outputs": [
    {
     "data": {
      "text/plain": [
       "array([  3.55706428, -15.73416556, -12.97969079,  -8.99059553,\n",
       "        -0.72011805])"
      ]
     },
     "execution_count": 33,
     "metadata": {},
     "output_type": "execute_result"
    }
   ],
   "source": [
    "# 按列求和\n",
    "np.sum(arr, axis = 0)"
   ]
  },
  {
   "cell_type": "code",
   "execution_count": 34,
   "id": "ba812c0b-6095-4529-94ed-ac9ed565b87f",
   "metadata": {},
   "outputs": [
    {
     "data": {
      "text/plain": [
       "array([-123.76574772,  -77.78307431,  -22.77052077,  310.554236  ,\n",
       "          7.63872609])"
      ]
     },
     "execution_count": 34,
     "metadata": {},
     "output_type": "execute_result"
    }
   ],
   "source": [
    "# 按列求积\n",
    "np.prod(arr, axis = 0)"
   ]
  },
  {
   "cell_type": "code",
   "execution_count": 35,
   "id": "ae057e62-b143-449a-ba94-f90b89502f68",
   "metadata": {},
   "outputs": [
    {
     "data": {
      "text/plain": [
       "array([ 1.18568809, -5.24472185, -4.3265636 , -2.99686518, -0.24003935])"
      ]
     },
     "execution_count": 35,
     "metadata": {},
     "output_type": "execute_result"
    }
   ],
   "source": [
    "# 按列求均值\n",
    "np.mean(arr, axis = 0)"
   ]
  },
  {
   "cell_type": "code",
   "execution_count": 36,
   "id": "be4237d2-1719-4df0-8bee-b305ebd0b4cd",
   "metadata": {},
   "outputs": [
    {
     "data": {
      "text/plain": [
       "5.018576293152813"
      ]
     },
     "execution_count": 36,
     "metadata": {},
     "output_type": "execute_result"
    }
   ],
   "source": [
    "# 求标准差\n",
    "np.std(arr)"
   ]
  },
  {
   "cell_type": "code",
   "execution_count": 39,
   "id": "f466abe2-1cb4-4539-878d-22dc70f8b41e",
   "metadata": {},
   "outputs": [
    {
     "name": "stdout",
     "output_type": "stream",
     "text": [
      "<arr value>\n",
      " [[-5.75451249 -9.09896956 -9.76757787 -9.0773475   3.17405444]\n",
      " [ 4.24497658 -4.88536644 -1.10787756  5.89263953 -0.77042566]\n",
      " [ 5.06660018 -1.74982955 -2.10423537 -5.80588756 -3.12374683]]\n",
      "<arr min>\n",
      " -9.767577866246967\n",
      "<arr min>\n",
      " 2\n"
     ]
    }
   ],
   "source": [
    "# 求最小值对应索引\n",
    "print(\"<arr value>\\n\", arr)\n",
    "print(\"<arr min>\\n\", np.min(arr))\n",
    "print(\"<arr min>\\n\", np.argmin(arr))"
   ]
  },
  {
   "cell_type": "code",
   "execution_count": 41,
   "id": "b6199b55-7e3d-4724-9363-a727cab9fdfb",
   "metadata": {},
   "outputs": [
    {
     "name": "stdout",
     "output_type": "stream",
     "text": [
      "<arr value>\n",
      " [[-5.75451249 -9.09896956 -9.76757787 -9.0773475   3.17405444]\n",
      " [ 4.24497658 -4.88536644 -1.10787756  5.89263953 -0.77042566]\n",
      " [ 5.06660018 -1.74982955 -2.10423537 -5.80588756 -3.12374683]]\n",
      "<arr min>\n",
      " [-5.75451249 -9.09896956 -9.76757787 -9.0773475  -3.12374683]\n",
      "<arr min>\n",
      " [0 0 0 0 2]\n"
     ]
    }
   ],
   "source": [
    "# 按列求最小值对应索引\n",
    "print(\"<arr value>\\n\", arr)\n",
    "print(\"<arr min>\\n\", np.min(arr, axis = 0))\n",
    "print(\"<arr min>\\n\", np.argmin(arr, axis = 0))"
   ]
  },
  {
   "cell_type": "code",
   "execution_count": 42,
   "id": "02db23d5-2004-4b20-a1a2-a86959f71589",
   "metadata": {},
   "outputs": [
    {
     "data": {
      "text/plain": [
       "-2.104235372538912"
      ]
     },
     "execution_count": 42,
     "metadata": {},
     "output_type": "execute_result"
    }
   ],
   "source": [
    "# 求中位数\n",
    "np.median(arr)"
   ]
  },
  {
   "cell_type": "markdown",
   "id": "5e9e9395-ef03-4308-be88-b2a7195a3a1a",
   "metadata": {},
   "source": [
    "### 四.布尔函数"
   ]
  },
  {
   "cell_type": "code",
   "execution_count": 44,
   "id": "d486575d-7f48-4ead-b68b-201524ed3e6c",
   "metadata": {},
   "outputs": [
    {
     "data": {
      "text/plain": [
       "array([[9, 3, 4, 9, 1],\n",
       "       [9, 7, 2, 4, 5],\n",
       "       [0, 0, 7, 7, 1]])"
      ]
     },
     "execution_count": 44,
     "metadata": {},
     "output_type": "execute_result"
    }
   ],
   "source": [
    "arr1 = np.random.randint(10, size = (3, 5))\n",
    "arr1"
   ]
  },
  {
   "cell_type": "code",
   "execution_count": 45,
   "id": "be0ac16d-ade3-442b-ba5f-5ce4a45fe3ee",
   "metadata": {},
   "outputs": [
    {
     "data": {
      "text/plain": [
       "True"
      ]
     },
     "execution_count": 45,
     "metadata": {},
     "output_type": "execute_result"
    }
   ],
   "source": [
    "# any函数用于判断任何一个元素满足条件是否为真\n",
    "# 例如：判断数组中不是所有元素都是0\n",
    "np.any(arr1 == 0)"
   ]
  },
  {
   "cell_type": "code",
   "execution_count": 50,
   "id": "2298fae7-8135-42c9-81c7-46b35e3ec244",
   "metadata": {},
   "outputs": [
    {
     "data": {
      "text/plain": [
       "True"
      ]
     },
     "execution_count": 50,
     "metadata": {},
     "output_type": "execute_result"
    }
   ],
   "source": [
    "# all函数用于判断所有元素都满足条件则为真\n",
    "arr2 = np.zeros((3, 5))\n",
    "np.all(arr2 == 0)"
   ]
  },
  {
   "cell_type": "markdown",
   "id": "c685bbc3-5c9a-4465-a697-9d07617de2a5",
   "metadata": {},
   "source": [
    "### 五.排序函数"
   ]
  },
  {
   "cell_type": "markdown",
   "id": "5fa6a353-d4a6-46b5-a673-108a8a8df85e",
   "metadata": {},
   "source": [
    "#### np.sort函数"
   ]
  },
  {
   "cell_type": "code",
   "execution_count": 51,
   "id": "9dc51e3a-747e-4e80-a0f5-e3b441961500",
   "metadata": {},
   "outputs": [
    {
     "data": {
      "text/plain": [
       "array([[9, 7, 6, 5, 2],\n",
       "       [5, 4, 2, 9, 7],\n",
       "       [8, 2, 0, 6, 2]])"
      ]
     },
     "execution_count": 51,
     "metadata": {},
     "output_type": "execute_result"
    }
   ],
   "source": [
    "unsorted_arr = np.random.randint(10, size = (3, 5))\n",
    "unsorted_arr"
   ]
  },
  {
   "cell_type": "code",
   "execution_count": 54,
   "id": "bb0481b7-97a2-45e1-8f5c-d620fbeb0d0d",
   "metadata": {},
   "outputs": [
    {
     "data": {
      "text/plain": [
       "array([[2, 5, 6, 7, 9],\n",
       "       [2, 4, 5, 7, 9],\n",
       "       [0, 2, 2, 6, 8]])"
      ]
     },
     "execution_count": 54,
     "metadata": {},
     "output_type": "execute_result"
    }
   ],
   "source": [
    "# 默认情况下，sort函数会按照最大的axis轴进行排序\n",
    "# 如果是二维数组，默认会按照axis=1排序，则是按行排序\n",
    "# ⚠️ 默认情况下不会改变原始对象\n",
    "np.sort(unsorted_arr)"
   ]
  },
  {
   "cell_type": "code",
   "execution_count": 55,
   "id": "5938161f-080e-4d1e-baaa-2728fad3b3ad",
   "metadata": {},
   "outputs": [
    {
     "data": {
      "text/plain": [
       "array([[5, 2, 0, 5, 2],\n",
       "       [8, 4, 2, 6, 2],\n",
       "       [9, 7, 6, 9, 7]])"
      ]
     },
     "execution_count": 55,
     "metadata": {},
     "output_type": "execute_result"
    }
   ],
   "source": [
    "# 按列排序\n",
    "np.sort(unsorted_arr, axis = 0)"
   ]
  },
  {
   "cell_type": "markdown",
   "id": "7256f223-4d25-484c-9cd6-7f7a6f1b2c73",
   "metadata": {},
   "source": [
    "#### sort函数\n",
    "\n",
    "numpy的ndarray的sort函数会改变原始对象"
   ]
  },
  {
   "cell_type": "code",
   "execution_count": 56,
   "id": "e4328ff0-31ef-4d99-b3dc-038e5e174523",
   "metadata": {},
   "outputs": [
    {
     "data": {
      "text/plain": [
       "array([[2, 8, 1, 4, 3],\n",
       "       [3, 0, 3, 2, 8],\n",
       "       [4, 7, 6, 2, 7]])"
      ]
     },
     "execution_count": 56,
     "metadata": {},
     "output_type": "execute_result"
    }
   ],
   "source": [
    "arr3 = np.random.randint(10, size = (3, 5))\n",
    "arr3"
   ]
  },
  {
   "cell_type": "code",
   "execution_count": 60,
   "id": "dc0d932a-9661-4043-8f4f-8ee93cdf2dd9",
   "metadata": {},
   "outputs": [],
   "source": [
    "arr3.sort(axis = 0)"
   ]
  },
  {
   "cell_type": "code",
   "execution_count": 61,
   "id": "18faefbb-78bd-4a16-960c-d53e938cf3e7",
   "metadata": {},
   "outputs": [
    {
     "data": {
      "text/plain": [
       "array([[0, 2, 3, 3, 7],\n",
       "       [1, 2, 3, 4, 8],\n",
       "       [2, 4, 6, 7, 8]])"
      ]
     },
     "execution_count": 61,
     "metadata": {},
     "output_type": "execute_result"
    }
   ],
   "source": [
    "arr3"
   ]
  },
  {
   "cell_type": "markdown",
   "id": "aae757f4-c0e0-4bb4-967d-d88499b55230",
   "metadata": {},
   "source": [
    "#### argsort函数\n",
    "\n",
    "用于获取排序后的索引"
   ]
  },
  {
   "cell_type": "code",
   "execution_count": 67,
   "id": "30d42983-ebfb-4c86-b66c-b6c215e19886",
   "metadata": {},
   "outputs": [
    {
     "data": {
      "text/plain": [
       "array([[2, 4, 7, 1, 3],\n",
       "       [4, 5, 6, 3, 3],\n",
       "       [9, 2, 8, 7, 0]])"
      ]
     },
     "execution_count": 67,
     "metadata": {},
     "output_type": "execute_result"
    }
   ],
   "source": [
    "arr4 = np.random.randint(10, size = (3, 5))\n",
    "arr4"
   ]
  },
  {
   "cell_type": "code",
   "execution_count": 68,
   "id": "44fc9140-769c-4e11-96cf-7ff12c32f6f1",
   "metadata": {},
   "outputs": [
    {
     "data": {
      "text/plain": [
       "array([[3, 0, 4, 1, 2],\n",
       "       [3, 4, 0, 1, 2],\n",
       "       [4, 1, 3, 2, 0]])"
      ]
     },
     "execution_count": 68,
     "metadata": {},
     "output_type": "execute_result"
    }
   ],
   "source": [
    "np.argsort(arr4, axis = 1)"
   ]
  },
  {
   "cell_type": "markdown",
   "id": "80b3b6d5-9296-471c-bb26-2aa58cf4dc67",
   "metadata": {},
   "source": [
    "#### 降序排序"
   ]
  },
  {
   "cell_type": "code",
   "execution_count": 69,
   "id": "aa48e0ce-ed7d-4ce0-a76d-bc5637d7591a",
   "metadata": {},
   "outputs": [
    {
     "data": {
      "text/plain": [
       "array([[1, 3, 0, 9, 4],\n",
       "       [0, 8, 9, 5, 0],\n",
       "       [0, 5, 9, 1, 5]])"
      ]
     },
     "execution_count": 69,
     "metadata": {},
     "output_type": "execute_result"
    }
   ],
   "source": [
    "arr5 = np.random.randint(10, size = (3, 5))\n",
    "arr5"
   ]
  },
  {
   "cell_type": "code",
   "execution_count": 72,
   "id": "422c4ae2-cec5-4f1d-8724-c4b6dbe2d524",
   "metadata": {},
   "outputs": [
    {
     "data": {
      "text/plain": [
       "array([[9, 4, 3, 1, 0],\n",
       "       [9, 8, 5, 0, 0],\n",
       "       [9, 5, 5, 1, 0]])"
      ]
     },
     "execution_count": 72,
     "metadata": {},
     "output_type": "execute_result"
    }
   ],
   "source": [
    "-np.sort(-arr5, axis = 1)"
   ]
  },
  {
   "cell_type": "markdown",
   "id": "5fdf3023-2afa-47c7-be73-7d4c899c208d",
   "metadata": {},
   "source": [
    "### 六.其他函数"
   ]
  },
  {
   "cell_type": "markdown",
   "id": "0cee41dc-933b-42fc-bcf1-5d74e479a7d0",
   "metadata": {},
   "source": [
    "#### apply_along_axis\n",
    "\n",
    "沿着某个轴执之行指定的函数"
   ]
  },
  {
   "cell_type": "code",
   "execution_count": 83,
   "id": "94a13510-3185-4430-a826-7fd142cfae11",
   "metadata": {},
   "outputs": [
    {
     "data": {
      "text/plain": [
       "array([[7, 9, 1, 5, 5],\n",
       "       [5, 8, 8, 3, 9],\n",
       "       [0, 6, 3, 4, 3]])"
      ]
     },
     "execution_count": 83,
     "metadata": {},
     "output_type": "execute_result"
    }
   ],
   "source": [
    "arr6 = np.random.randint(10, size = (3, 5))\n",
    "arr6"
   ]
  },
  {
   "cell_type": "code",
   "execution_count": 87,
   "id": "42dbca27-f15a-45a5-99f7-8624e52e553d",
   "metadata": {},
   "outputs": [
    {
     "data": {
      "text/plain": [
       "array([5.66666667, 7.        , 3.33333333])"
      ]
     },
     "execution_count": 87,
     "metadata": {},
     "output_type": "execute_result"
    }
   ],
   "source": [
    "# 按行求平均值，并且去除最大最小值\n",
    "\n",
    "def _mean(x):\n",
    "    return x[(x != x.max()) & (x != x.min())].mean()\n",
    "    \n",
    "np.apply_along_axis(_mean, axis = 1, arr = arr6)"
   ]
  },
  {
   "cell_type": "markdown",
   "id": "82b686bb-a525-43a2-bf9e-081520d99d2d",
   "metadata": {},
   "source": [
    "#### linspace\n",
    "\n",
    "将指定区间内的值平均分为指定份数"
   ]
  },
  {
   "cell_type": "code",
   "execution_count": 95,
   "id": "399ba0cd-7ba2-46c0-8237-457c6406dea9",
   "metadata": {},
   "outputs": [
    {
     "data": {
      "text/plain": [
       "array([  1.,  34.,  67., 100.])"
      ]
     },
     "execution_count": 95,
     "metadata": {},
     "output_type": "execute_result"
    }
   ],
   "source": [
    "# 将[1, 100]平均分成4份\n",
    "np.linspace(1, 100, 4)"
   ]
  },
  {
   "cell_type": "markdown",
   "id": "e340904a-2c0a-454a-ae4f-2af4dc242912",
   "metadata": {},
   "source": [
    "#### unique\n",
    "\n",
    "返回数组中的唯一值（去重）"
   ]
  },
  {
   "cell_type": "code",
   "execution_count": 96,
   "id": "bca2ebc5-84aa-478a-94d7-302b9dff4874",
   "metadata": {},
   "outputs": [
    {
     "data": {
      "text/plain": [
       "array([[7, 7, 8, 8, 9],\n",
       "       [1, 7, 7, 6, 2],\n",
       "       [9, 5, 2, 5, 7]])"
      ]
     },
     "execution_count": 96,
     "metadata": {},
     "output_type": "execute_result"
    }
   ],
   "source": [
    "arr7 = np.random.randint(10, size = (3, 5))\n",
    "arr7"
   ]
  },
  {
   "cell_type": "code",
   "execution_count": 98,
   "id": "13e376a4-ec9c-4270-b2c8-46ff799c04b9",
   "metadata": {},
   "outputs": [
    {
     "data": {
      "text/plain": [
       "array([1, 2, 5, 6, 7, 8, 9])"
      ]
     },
     "execution_count": 98,
     "metadata": {},
     "output_type": "execute_result"
    }
   ],
   "source": [
    "# 获取数组中取出后的值\n",
    "np.unique(arr7)"
   ]
  },
  {
   "cell_type": "code",
   "execution_count": 103,
   "id": "db5fb1cb-9da3-4ab8-9bc9-0d00f248c30a",
   "metadata": {},
   "outputs": [
    {
     "data": {
      "text/plain": [
       "(array([1, 2, 5, 6, 7, 8, 9]), array([1, 2, 2, 1, 5, 2, 2]))"
      ]
     },
     "execution_count": 103,
     "metadata": {},
     "output_type": "execute_result"
    }
   ],
   "source": [
    "# 统计数组中每个元素以及对应个数\n",
    "# 返回的左指为去重后的数组\n",
    "# 返回的右指为每个元素个数\n",
    "np.unique(arr7, return_counts = True)"
   ]
  }
 ],
 "metadata": {
  "kernelspec": {
   "display_name": "Python 3 (ipykernel)",
   "language": "python",
   "name": "python3"
  },
  "language_info": {
   "codemirror_mode": {
    "name": "ipython",
    "version": 3
   },
   "file_extension": ".py",
   "mimetype": "text/x-python",
   "name": "python",
   "nbconvert_exporter": "python",
   "pygments_lexer": "ipython3",
   "version": "3.11.4"
  }
 },
 "nbformat": 4,
 "nbformat_minor": 5
}
