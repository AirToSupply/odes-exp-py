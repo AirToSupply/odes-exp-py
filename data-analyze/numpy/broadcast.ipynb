{
 "cells": [
  {
   "cell_type": "code",
   "execution_count": 1,
   "id": "18ef3670",
   "metadata": {},
   "outputs": [],
   "source": [
    "import numpy as np"
   ]
  },
  {
   "cell_type": "markdown",
   "id": "adc25c3b",
   "metadata": {},
   "source": [
    "### 数组与数计算"
   ]
  },
  {
   "cell_type": "code",
   "execution_count": 4,
   "id": "259767c2",
   "metadata": {},
   "outputs": [
    {
     "name": "stdout",
     "output_type": "stream",
     "text": [
      "<nd>\n",
      " [[9 5 5]\n",
      " [1 6 3]\n",
      " [9 5 0]]\n",
      "<nd ✖️ 2>\n",
      " [[18 10 10]\n",
      " [ 2 12  6]\n",
      " [18 10  0]]\n"
     ]
    }
   ],
   "source": [
    "nd = np.random.randint(0, 10, (3, 3))\n",
    "print(\"<nd>\\n\", nd)\n",
    "print(\"<nd ✖️ 2>\\n\", nd * 2)"
   ]
  },
  {
   "cell_type": "markdown",
   "id": "34b9c821",
   "metadata": {},
   "source": [
    "### 数组与数组计算"
   ]
  },
  {
   "cell_type": "code",
   "execution_count": 5,
   "id": "00b8eabf",
   "metadata": {},
   "outputs": [
    {
     "name": "stdout",
     "output_type": "stream",
     "text": [
      "<nd1>\n",
      " [[1 1 8]\n",
      " [2 9 8]\n",
      " [9 8 4]]\n",
      "<nd2>\n",
      " [[7 9 5]\n",
      " [0 1 9]\n",
      " [1 1 6]]\n",
      "<nd1 + nd2>\n",
      " [[ 8 10 13]\n",
      " [ 2 10 17]\n",
      " [10  9 10]]\n"
     ]
    }
   ],
   "source": [
    "# 同形状运算\n",
    "nd1 = np.random.randint(0, 10, (3, 3)) \n",
    "nd2 = np.random.randint(0, 10, (3, 3)) \n",
    "print(\"<nd1>\\n\", nd1)\n",
    "print(\"<nd2>\\n\", nd2)\n",
    "print(\"<nd1 + nd2>\\n\", nd1 + nd2)"
   ]
  },
  {
   "cell_type": "code",
   "execution_count": 8,
   "id": "e422d791",
   "metadata": {},
   "outputs": [
    {
     "ename": "ValueError",
     "evalue": "operands could not be broadcast together with shapes (2,3) (2,2) ",
     "output_type": "error",
     "traceback": [
      "\u001b[0;31m---------------------------------------------------------------------------\u001b[0m",
      "\u001b[0;31mValueError\u001b[0m                                Traceback (most recent call last)",
      "\u001b[0;32m/var/folders/7y/t6xbpf4n7372jg36klr18kk00000gn/T/ipykernel_35436/3515239267.py\u001b[0m in \u001b[0;36m<module>\u001b[0;34m\u001b[0m\n\u001b[1;32m      2\u001b[0m \u001b[0mnd1\u001b[0m \u001b[0;34m=\u001b[0m \u001b[0mnp\u001b[0m\u001b[0;34m.\u001b[0m\u001b[0mrandom\u001b[0m\u001b[0;34m.\u001b[0m\u001b[0mrandint\u001b[0m\u001b[0;34m(\u001b[0m\u001b[0;36m0\u001b[0m\u001b[0;34m,\u001b[0m \u001b[0;36m10\u001b[0m\u001b[0;34m,\u001b[0m \u001b[0;34m(\u001b[0m\u001b[0;36m2\u001b[0m\u001b[0;34m,\u001b[0m \u001b[0;36m3\u001b[0m\u001b[0;34m)\u001b[0m\u001b[0;34m)\u001b[0m\u001b[0;34m\u001b[0m\u001b[0;34m\u001b[0m\u001b[0m\n\u001b[1;32m      3\u001b[0m \u001b[0mnd2\u001b[0m \u001b[0;34m=\u001b[0m \u001b[0mnp\u001b[0m\u001b[0;34m.\u001b[0m\u001b[0mrandom\u001b[0m\u001b[0;34m.\u001b[0m\u001b[0mrandint\u001b[0m\u001b[0;34m(\u001b[0m\u001b[0;36m0\u001b[0m\u001b[0;34m,\u001b[0m \u001b[0;36m10\u001b[0m\u001b[0;34m,\u001b[0m \u001b[0;34m(\u001b[0m\u001b[0;36m2\u001b[0m\u001b[0;34m,\u001b[0m \u001b[0;36m2\u001b[0m\u001b[0;34m)\u001b[0m\u001b[0;34m)\u001b[0m\u001b[0;34m\u001b[0m\u001b[0;34m\u001b[0m\u001b[0m\n\u001b[0;32m----> 4\u001b[0;31m \u001b[0mprint\u001b[0m\u001b[0;34m(\u001b[0m\u001b[0;34m\"<nd1 + nd2>\\n\"\u001b[0m\u001b[0;34m,\u001b[0m \u001b[0mnd1\u001b[0m \u001b[0;34m+\u001b[0m \u001b[0mnd2\u001b[0m\u001b[0;34m)\u001b[0m\u001b[0;34m\u001b[0m\u001b[0;34m\u001b[0m\u001b[0m\n\u001b[0m",
      "\u001b[0;31mValueError\u001b[0m: operands could not be broadcast together with shapes (2,3) (2,2) "
     ]
    }
   ],
   "source": [
    "# ❌ 异形状运算\n",
    "nd1 = np.random.randint(0, 10, (2, 3)) \n",
    "nd2 = np.random.randint(0, 10, (2, 2)) \n",
    "print(\"<nd1 + nd2>\\n\", nd1 + nd2)"
   ]
  },
  {
   "cell_type": "code",
   "execution_count": 9,
   "id": "cb2616fa",
   "metadata": {},
   "outputs": [
    {
     "name": "stdout",
     "output_type": "stream",
     "text": [
      "<nd1>\n",
      " [[1 1 0]\n",
      " [0 0 9]\n",
      " [7 1 7]]\n",
      "<nd2>\n",
      " [[9]\n",
      " [6]\n",
      " [3]]\n",
      "<nd1 + nd2>\n",
      " [[10 10  9]\n",
      " [ 6  6 15]\n",
      " [10  4 10]]\n"
     ]
    }
   ],
   "source": [
    "# ✅ 异形状运算\n",
    "# 行数相同，列数不同，有数组的列为1\n",
    "nd1 = np.random.randint(0, 10, (3, 3)) \n",
    "nd2 = np.random.randint(0, 10, (3, 1)) # 进行广播📢\n",
    "print(\"<nd1>\\n\", nd1)\n",
    "print(\"<nd2>\\n\", nd2)\n",
    "print(\"<nd1 + nd2>\\n\", nd1 + nd2)"
   ]
  },
  {
   "cell_type": "code",
   "execution_count": 11,
   "id": "bb7e2839",
   "metadata": {},
   "outputs": [
    {
     "name": "stdout",
     "output_type": "stream",
     "text": [
      "<nd1>\n",
      " [[9 5 7]]\n",
      "<nd2>\n",
      " [[3 0 6]\n",
      " [2 1 4]\n",
      " [9 5 2]]\n",
      "<nd1 + nd2>\n",
      " [[12  5 13]\n",
      " [11  6 11]\n",
      " [18 10  9]]\n"
     ]
    }
   ],
   "source": [
    "# ✅ 异形状运算\n",
    "# 行数不同，列数相同，有数组的行为1\n",
    "nd1 = np.random.randint(0, 10, (1, 3)) # 进行广播📢\n",
    "nd2 = np.random.randint(0, 10, (3, 3)) \n",
    "print(\"<nd1>\\n\", nd1)\n",
    "print(\"<nd2>\\n\", nd2)\n",
    "print(\"<nd1 + nd2>\\n\", nd1 + nd2)"
   ]
  },
  {
   "cell_type": "markdown",
   "id": "dcd1f7bb",
   "metadata": {},
   "source": [
    "### 广播原则\n",
    "\n",
    "如果两个数组的后缘维度（即从后数组形状元组的最后一个元素开始向前考察）的轴长度相符或者其中一方的长度为1，则认为数组之间是广播兼容的。广播会在缺失长度为1维度上进行扩充。"
   ]
  },
  {
   "cell_type": "markdown",
   "id": "d211729e",
   "metadata": {},
   "source": [
    "Q1: A(3, 8, 2) + B(8, 3) = ?\n",
    "\n",
    "A:  ❌\n",
    "\n",
    "    A的第3维度[2] != B的第2维度[3]"
   ]
  },
  {
   "cell_type": "markdown",
   "id": "0ba2857c",
   "metadata": {},
   "source": [
    "Q1: A(3, 8, 2) + B(8, 1) = ?\n",
    "    \n",
    "A:  ✅\n",
    "    \n",
    "    A的第3维度[2] != B的第2维度[1]\n",
    "    \n",
    "    B的第2维度为1，则B广播"
   ]
  },
  {
   "cell_type": "markdown",
   "id": "c229b7a1",
   "metadata": {},
   "source": [
    "Q1: A(3, 1, 8) + B(8, 1) = ?\n",
    "    \n",
    "A:  ✅\n",
    "    \n",
    "    A的第3维度[8] != B的第2维度[1]\n",
    "    \n",
    "    B的第2维度为1，则B广播\n",
    "    "
   ]
  },
  {
   "cell_type": "code",
   "execution_count": 25,
   "id": "5c0e7a84",
   "metadata": {},
   "outputs": [
    {
     "name": "stdout",
     "output_type": "stream",
     "text": [
      "A\n",
      " [[4 1 0]\n",
      " [4 3 3]]\n",
      "B\n",
      " [[4 4]\n",
      " [1 3]\n",
      " [0 3]]\n",
      "C=AB\n",
      " [[17 19]\n",
      " [19 34]]\n"
     ]
    }
   ],
   "source": [
    "# 转置和数组相乘\n",
    "A = np.random.randint(0, 5, (2, 3))\n",
    "B = A.T\n",
    "C = A.dot(B)\n",
    "\n",
    "print(\"A\\n\", A)\n",
    "print(\"B\\n\", B)\n",
    "print(\"C=AB\\n\", C)"
   ]
  },
  {
   "cell_type": "code",
   "execution_count": null,
   "id": "71d68000",
   "metadata": {},
   "outputs": [],
   "source": []
  }
 ],
 "metadata": {
  "kernelspec": {
   "display_name": "Python 3 (ipykernel)",
   "language": "python",
   "name": "python3"
  },
  "language_info": {
   "codemirror_mode": {
    "name": "ipython",
    "version": 3
   },
   "file_extension": ".py",
   "mimetype": "text/x-python",
   "name": "python",
   "nbconvert_exporter": "python",
   "pygments_lexer": "ipython3",
   "version": "3.7.12"
  }
 },
 "nbformat": 4,
 "nbformat_minor": 5
}
