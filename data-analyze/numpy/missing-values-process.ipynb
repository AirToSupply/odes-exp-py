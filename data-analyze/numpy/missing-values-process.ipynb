{
 "cells": [
  {
   "cell_type": "code",
   "execution_count": 1,
   "id": "b2173e9a",
   "metadata": {},
   "outputs": [],
   "source": [
    "import numpy as np"
   ]
  },
  {
   "cell_type": "markdown",
   "id": "cef938c5",
   "metadata": {},
   "source": [
    "### 什么是NAN?\n",
    "\n",
    "NAN（Not a number）代表不是一个数字，但是它却属于浮点类型。它有如下特点：\n",
    "\n",
    "(1) NAN和NAN并不相等，比如：`np.NAN != np.NAN` 这个条件是成立的。\n",
    "\n",
    "(2) NAN和任何数值做运算结果都是NAN。"
   ]
  },
  {
   "cell_type": "code",
   "execution_count": 3,
   "id": "48cb101e",
   "metadata": {},
   "outputs": [
    {
     "data": {
      "text/plain": [
       "False"
      ]
     },
     "execution_count": 3,
     "metadata": {},
     "output_type": "execute_result"
    }
   ],
   "source": [
    "# NAN和NAN并不相等\n",
    "np.NAN == np.NAN"
   ]
  },
  {
   "cell_type": "code",
   "execution_count": 9,
   "id": "897b06bb",
   "metadata": {},
   "outputs": [
    {
     "name": "stdout",
     "output_type": "stream",
     "text": [
      "<d>\n",
      " [[ 0  1  2  3]\n",
      " [ 4  5  6  7]\n",
      " [ 8  9 10 11]]\n",
      "<d dtype> int64\n"
     ]
    },
    {
     "ename": "ValueError",
     "evalue": "cannot convert float NaN to integer",
     "output_type": "error",
     "traceback": [
      "\u001b[0;31m---------------------------------------------------------------------------\u001b[0m",
      "\u001b[0;31mValueError\u001b[0m                                Traceback (most recent call last)",
      "\u001b[0;32m/var/folders/7y/t6xbpf4n7372jg36klr18kk00000gn/T/ipykernel_12518/1780752679.py\u001b[0m in \u001b[0;36m<module>\u001b[0;34m\u001b[0m\n\u001b[1;32m      3\u001b[0m \u001b[0mprint\u001b[0m\u001b[0;34m(\u001b[0m\u001b[0;34m\"<d>\\n\"\u001b[0m\u001b[0;34m,\u001b[0m \u001b[0md\u001b[0m\u001b[0;34m)\u001b[0m\u001b[0;34m\u001b[0m\u001b[0;34m\u001b[0m\u001b[0m\n\u001b[1;32m      4\u001b[0m \u001b[0mprint\u001b[0m\u001b[0;34m(\u001b[0m\u001b[0;34m\"<d dtype>\"\u001b[0m\u001b[0;34m,\u001b[0m \u001b[0md\u001b[0m\u001b[0;34m.\u001b[0m\u001b[0mdtype\u001b[0m\u001b[0;34m)\u001b[0m\u001b[0;34m\u001b[0m\u001b[0;34m\u001b[0m\u001b[0m\n\u001b[0;32m----> 5\u001b[0;31m \u001b[0md\u001b[0m\u001b[0;34m[\u001b[0m\u001b[0;36m0\u001b[0m\u001b[0;34m,\u001b[0m \u001b[0;36m0\u001b[0m\u001b[0;34m]\u001b[0m \u001b[0;34m=\u001b[0m \u001b[0mnp\u001b[0m\u001b[0;34m.\u001b[0m\u001b[0mNAN\u001b[0m\u001b[0;34m\u001b[0m\u001b[0;34m\u001b[0m\u001b[0m\n\u001b[0m",
      "\u001b[0;31mValueError\u001b[0m: cannot convert float NaN to integer"
     ]
    }
   ],
   "source": [
    "# NAN的是数据类型\n",
    "d = np.arange(12).reshape(3, 4)\n",
    "print(\"<d>\\n\", d)\n",
    "print(\"<d dtype>\", d.dtype)\n",
    "d[0, 0] = np.NAN"
   ]
  },
  {
   "cell_type": "code",
   "execution_count": 10,
   "id": "40bbd0d4",
   "metadata": {},
   "outputs": [
    {
     "name": "stdout",
     "output_type": "stream",
     "text": [
      "<d>\n",
      " [[ 0.  1.  2.  3.]\n",
      " [ 4.  5.  6.  7.]\n",
      " [ 8.  9. 10. 11.]]\n",
      "<d dtype> float16\n",
      "<d>\n",
      " [[nan  1.  2.  3.]\n",
      " [ 4.  5.  6.  7.]\n",
      " [ 8.  9. 10. 11.]]\n"
     ]
    }
   ],
   "source": [
    "d = np.arange(12, dtype = np.float16).reshape(3, 4)\n",
    "print(\"<d>\\n\", d)\n",
    "print(\"<d dtype>\", d.dtype)\n",
    "d[0, 0] = np.NAN\n",
    "print(\"<d>\\n\", d)"
   ]
  },
  {
   "cell_type": "markdown",
   "id": "206f3ed7",
   "metadata": {},
   "source": [
    "### 缺失值的处理方式"
   ]
  },
  {
   "cell_type": "markdown",
   "id": "6427ca2c",
   "metadata": {},
   "source": [
    "#### 删除缺失值"
   ]
  },
  {
   "cell_type": "code",
   "execution_count": 18,
   "id": "8b0f245f",
   "metadata": {},
   "outputs": [
    {
     "name": "stdout",
     "output_type": "stream",
     "text": [
      "<m1>\n",
      " [[ 6. nan  6.  3.]\n",
      " [ 1.  8.  1. nan]\n",
      " [ 6.  9.  3.  5.]\n",
      " [ 4.  3.  4.  4.]]\n"
     ]
    },
    {
     "data": {
      "text/plain": [
       "array([6., 6., 3., 1., 8., 1., 6., 9., 3., 5., 4., 3., 4., 4.],\n",
       "      dtype=float16)"
      ]
     },
     "execution_count": 18,
     "metadata": {},
     "output_type": "execute_result"
    }
   ],
   "source": [
    "# 方式一：删除所有缺失值（简单粗暴）\n",
    "# 缺点：丢失数据，会变成一维数组\n",
    "\n",
    "# 构造数据\n",
    "m1 = np.random.randint(0, 10, size = (4, 4)).astype(np.float16)\n",
    "m1[0, 1] = np.nan\n",
    "m1[1, 3] = np.nan\n",
    "print(\"<m1>\\n\", m1)\n",
    "\n",
    "# ⚠️ 因为np.NAN == np.NAN不成立，所以不能通过这种方式判断，这里通过isnan函数判断缺失值\n",
    "m1[~np.isnan(m1)]"
   ]
  },
  {
   "cell_type": "code",
   "execution_count": 35,
   "id": "8fc791d8",
   "metadata": {},
   "outputs": [
    {
     "name": "stdout",
     "output_type": "stream",
     "text": [
      "<m2>\n",
      " [[ 2. nan nan  7.]\n",
      " [ 9.  1. nan  8.]\n",
      " [ 8.  2.  6.  2.]\n",
      " [ 1.  8.  5.  9.]]\n",
      "<find missing value location> (array([0, 0, 1]), array([1, 2, 2]))\n"
     ]
    },
    {
     "data": {
      "text/plain": [
       "array([[8., 2., 6., 2.],\n",
       "       [1., 8., 5., 9.]], dtype=float16)"
      ]
     },
     "execution_count": 35,
     "metadata": {},
     "output_type": "execute_result"
    }
   ],
   "source": [
    "# 方式二：删除NAN所在的列\n",
    "m2 = np.random.randint(0, 10, size = (4, 4)).astype(np.float16)\n",
    "m2[0, 1] = np.nan\n",
    "m2[0, 2] = np.nan\n",
    "m2[1, 2] = np.nan\n",
    "print(\"<m2>\\n\", m2)\n",
    "\n",
    "# 查找哪些行有缺失值\n",
    "# where函数会返回缺失值的具体位置的集合\n",
    "# 返回值为一个元组，第一个元素为所有缺失值的x轴位置集合，第二个元素为所有缺失值的y轴位置集合\n",
    "idx = np.where(np.isnan(m2))\n",
    "print(\"<find missing value location>\", idx)\n",
    "# 去重获取缺失值的行索引\n",
    "x_idx = np.unique(idx[0])\n",
    "# delete函数\n",
    "# axis = 0表示按照行删除，此时obj参数给定的切片为数据的行索引数组，表示删除哪些行\n",
    "# axis = 1表示按照列删除，此时obj参数给定的切片为数据的列索引数组，表示删除哪些列\n",
    "# ⚠️：delete函数默认不改变原始对象\n",
    "np.delete(m2, obj = x_idx, axis = 0)"
   ]
  },
  {
   "cell_type": "code",
   "execution_count": 49,
   "id": "57ca29c6",
   "metadata": {},
   "outputs": [
    {
     "name": "stdout",
     "output_type": "stream",
     "text": [
      "<m3>\n",
      " [[7 8 3 0]\n",
      " [6 0 6 9]\n",
      " [5 8 7 7]\n",
      " [2 8 3 7]]\n",
      "<ml>\n",
      " [[7 8 3 0]\n",
      " [2 8 3 7]]\n",
      "<mc>\n",
      " [[8 3]\n",
      " [0 6]\n",
      " [8 7]\n",
      " [8 3]]\n",
      "<me>\n",
      " [8 3 0 6 0 6 9 5 8 7 7 2 8 3]\n"
     ]
    }
   ],
   "source": [
    "# [补充] delete函数\n",
    "m3 = np.random.randint(0, 10, size = (4, 4))\n",
    "print(\"<m3>\\n\", m3)\n",
    "\n",
    "# 删除第2行和第3行\n",
    "# ⚠️：按行删除 axis = 0\n",
    "ml = np.delete(m3, obj = [1, 2], axis = 0)\n",
    "print(\"<ml>\\n\", ml)\n",
    "\n",
    "# 删除第1列和第4列\n",
    "# ⚠️：按列删除 axis = 1\n",
    "mc = np.delete(m3, obj = [0, 3], axis = 1)\n",
    "print(\"<mc>\\n\", mc)\n",
    "\n",
    "# 对象打平删除第1个和第16个元素\n",
    "# ⚠️：按第几个删除 axis = None\n",
    "me = np.delete(m3, obj = [0, 15], axis = None)\n",
    "print(\"<me>\\n\", me)"
   ]
  },
  {
   "cell_type": "markdown",
   "id": "9ed3bd61",
   "metadata": {},
   "source": [
    "#### 替换缺失值"
   ]
  },
  {
   "cell_type": "code",
   "execution_count": 56,
   "id": "956276a6",
   "metadata": {},
   "outputs": [
    {
     "data": {
      "text/plain": [
       "array([[59., 89.],\n",
       "       [90., 32.],\n",
       "       [78., 45.],\n",
       "       [34., nan],\n",
       "       [nan, 56.],\n",
       "       [23., 56.]])"
      ]
     },
     "execution_count": 56,
     "metadata": {},
     "output_type": "execute_result"
    }
   ],
   "source": [
    "# 模拟成绩表数据\n",
    "# 将每门学科的缺失值用均值替换\n",
    "scores = [\n",
    "    [59, 90, 78, 34,     np.NAN, 23], # math\n",
    "    [89, 32, 45, np.NAN, 56,     56]  # english\n",
    "]\n",
    "score = np.array(scores).T\n",
    "score "
   ]
  },
  {
   "cell_type": "code",
   "execution_count": 57,
   "id": "b485be06",
   "metadata": {},
   "outputs": [
    {
     "data": {
      "text/plain": [
       "array([[59., 89.],\n",
       "       [90., 32.],\n",
       "       [78., 45.],\n",
       "       [34.,  0.],\n",
       "       [ 0., 56.],\n",
       "       [23., 56.]])"
      ]
     },
     "execution_count": 57,
     "metadata": {},
     "output_type": "execute_result"
    }
   ],
   "source": [
    "# 将缺失值替换为0\n",
    "score[np.isnan(score)] = 0\n",
    "score"
   ]
  },
  {
   "cell_type": "code",
   "execution_count": 65,
   "id": "781b0a4f",
   "metadata": {},
   "outputs": [
    {
     "data": {
      "text/plain": [
       "array([56.8, 55.6])"
      ]
     },
     "execution_count": 65,
     "metadata": {},
     "output_type": "execute_result"
    }
   ],
   "source": [
    "# 求每门学科的均值\n",
    "# ⚠️：需要剔除非0再计数\n",
    "mean = np.sum(score, axis = 0) / np.count_nonzero(score, axis = 0)\n",
    "mean"
   ]
  },
  {
   "cell_type": "code",
   "execution_count": 88,
   "id": "0b665efb",
   "metadata": {},
   "outputs": [
    {
     "data": {
      "text/plain": [
       "(array([3, 4]), array([1, 0]))"
      ]
     },
     "execution_count": 88,
     "metadata": {},
     "output_type": "execute_result"
    }
   ],
   "source": [
    "# 找出缺失值的位置\n",
    "idx = np.where(score == 0)\n",
    "idx"
   ]
  },
  {
   "cell_type": "code",
   "execution_count": 140,
   "id": "7e2c34ae",
   "metadata": {},
   "outputs": [
    {
     "data": {
      "text/plain": [
       "array([[59. , 89. ],\n",
       "       [90. , 32. ],\n",
       "       [78. , 45. ],\n",
       "       [34. , 55.6],\n",
       "       [56.8, 56. ],\n",
       "       [23. , 56. ]])"
      ]
     },
     "execution_count": 140,
     "metadata": {},
     "output_type": "execute_result"
    }
   ],
   "source": [
    "# 替换缺失值\n",
    "location = np.vstack([idx[0], idx[1]]).T\n",
    "for col in range(0, location.shape[0]):\n",
    "    x = location[col][0]\n",
    "    y = location[col][1]\n",
    "    # if表达式\n",
    "    v = mean[0] if y == 0 else mean[1]\n",
    "    score[x, y] = v\n",
    "\n",
    "score"
   ]
  }
 ],
 "metadata": {
  "kernelspec": {
   "display_name": "Python 3 (ipykernel)",
   "language": "python",
   "name": "python3"
  },
  "language_info": {
   "codemirror_mode": {
    "name": "ipython",
    "version": 3
   },
   "file_extension": ".py",
   "mimetype": "text/x-python",
   "name": "python",
   "nbconvert_exporter": "python",
   "pygments_lexer": "ipython3",
   "version": "3.7.12"
  }
 },
 "nbformat": 4,
 "nbformat_minor": 5
}
