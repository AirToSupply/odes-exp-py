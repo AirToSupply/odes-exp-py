{
 "cells": [
  {
   "cell_type": "code",
   "execution_count": 1,
   "id": "aa0365c6-8454-4026-82fd-42bb8847262a",
   "metadata": {},
   "outputs": [],
   "source": [
    "import numpy as np\n",
    "import pandas as pd"
   ]
  },
  {
   "cell_type": "code",
   "execution_count": 37,
   "id": "c9c0fb1f-4aaf-49f3-97ed-33a8d78f95e5",
   "metadata": {},
   "outputs": [
    {
     "data": {
      "text/html": [
       "<div>\n",
       "<style scoped>\n",
       "    .dataframe tbody tr th:only-of-type {\n",
       "        vertical-align: middle;\n",
       "    }\n",
       "\n",
       "    .dataframe tbody tr th {\n",
       "        vertical-align: top;\n",
       "    }\n",
       "\n",
       "    .dataframe thead th {\n",
       "        text-align: right;\n",
       "    }\n",
       "</style>\n",
       "<table border=\"1\" class=\"dataframe\">\n",
       "  <thead>\n",
       "    <tr style=\"text-align: right;\">\n",
       "      <th></th>\n",
       "      <th>Date</th>\n",
       "      <th>Time</th>\n",
       "      <th>No</th>\n",
       "      <th>HJ89</th>\n",
       "      <th>VT56</th>\n",
       "    </tr>\n",
       "  </thead>\n",
       "  <tbody>\n",
       "    <tr>\n",
       "      <th>0</th>\n",
       "      <td>08-24</td>\n",
       "      <td>09:00</td>\n",
       "      <td>SC00178</td>\n",
       "      <td>7</td>\n",
       "      <td>18</td>\n",
       "    </tr>\n",
       "    <tr>\n",
       "      <th>1</th>\n",
       "      <td>08-24</td>\n",
       "      <td>12:00</td>\n",
       "      <td>SC00178</td>\n",
       "      <td>15</td>\n",
       "      <td>16</td>\n",
       "    </tr>\n",
       "    <tr>\n",
       "      <th>2</th>\n",
       "      <td>08-24</td>\n",
       "      <td>09:00</td>\n",
       "      <td>SC00181</td>\n",
       "      <td>2</td>\n",
       "      <td>11</td>\n",
       "    </tr>\n",
       "    <tr>\n",
       "      <th>3</th>\n",
       "      <td>08-24</td>\n",
       "      <td>12:00</td>\n",
       "      <td>SC00181</td>\n",
       "      <td>8</td>\n",
       "      <td>18</td>\n",
       "    </tr>\n",
       "    <tr>\n",
       "      <th>4</th>\n",
       "      <td>08-25</td>\n",
       "      <td>09:00</td>\n",
       "      <td>SC00178</td>\n",
       "      <td>4</td>\n",
       "      <td>18</td>\n",
       "    </tr>\n",
       "    <tr>\n",
       "      <th>5</th>\n",
       "      <td>08-25</td>\n",
       "      <td>12:00</td>\n",
       "      <td>SC00178</td>\n",
       "      <td>15</td>\n",
       "      <td>11</td>\n",
       "    </tr>\n",
       "    <tr>\n",
       "      <th>6</th>\n",
       "      <td>08-25</td>\n",
       "      <td>09:00</td>\n",
       "      <td>SC00181</td>\n",
       "      <td>9</td>\n",
       "      <td>11</td>\n",
       "    </tr>\n",
       "    <tr>\n",
       "      <th>7</th>\n",
       "      <td>08-25</td>\n",
       "      <td>12:00</td>\n",
       "      <td>SC00181</td>\n",
       "      <td>8</td>\n",
       "      <td>18</td>\n",
       "    </tr>\n",
       "    <tr>\n",
       "      <th>8</th>\n",
       "      <td>08-26</td>\n",
       "      <td>09:00</td>\n",
       "      <td>SC00178</td>\n",
       "      <td>16</td>\n",
       "      <td>17</td>\n",
       "    </tr>\n",
       "    <tr>\n",
       "      <th>9</th>\n",
       "      <td>08-26</td>\n",
       "      <td>12:00</td>\n",
       "      <td>SC00178</td>\n",
       "      <td>7</td>\n",
       "      <td>11</td>\n",
       "    </tr>\n",
       "    <tr>\n",
       "      <th>10</th>\n",
       "      <td>08-26</td>\n",
       "      <td>09:00</td>\n",
       "      <td>SC00181</td>\n",
       "      <td>5</td>\n",
       "      <td>15</td>\n",
       "    </tr>\n",
       "    <tr>\n",
       "      <th>11</th>\n",
       "      <td>08-26</td>\n",
       "      <td>12:00</td>\n",
       "      <td>SC00181</td>\n",
       "      <td>16</td>\n",
       "      <td>14</td>\n",
       "    </tr>\n",
       "  </tbody>\n",
       "</table>\n",
       "</div>"
      ],
      "text/plain": [
       "     Date   Time       No  HJ89  VT56\n",
       "0   08-24  09:00  SC00178     7    18\n",
       "1   08-24  12:00  SC00178    15    16\n",
       "2   08-24  09:00  SC00181     2    11\n",
       "3   08-24  12:00  SC00181     8    18\n",
       "4   08-25  09:00  SC00178     4    18\n",
       "5   08-25  12:00  SC00178    15    11\n",
       "6   08-25  09:00  SC00181     9    11\n",
       "7   08-25  12:00  SC00181     8    18\n",
       "8   08-26  09:00  SC00178    16    17\n",
       "9   08-26  12:00  SC00178     7    11\n",
       "10  08-26  09:00  SC00181     5    15\n",
       "11  08-26  12:00  SC00181    16    14"
      ]
     },
     "execution_count": 37,
     "metadata": {},
     "output_type": "execute_result"
    }
   ],
   "source": [
    "data = pd.DataFrame({\n",
    "     'Date': ['08-24'] * 4 + ['08-25'] * 4 + ['08-26'] * 4, \n",
    "     'Time': ['09:00', '12:00'] * 6,\n",
    "     'No': (['SC00178'] * 2 + ['SC00181'] * 2) * 3,\n",
    "     'HJ89': np.random.randint(0, 20, 12),\n",
    "     'VT56': np.random.randint(10, 20, 12)})\n",
    "data"
   ]
  },
  {
   "cell_type": "markdown",
   "id": "13276cee-4500-4782-9c7a-82d65b99f688",
   "metadata": {},
   "source": [
    "### 分组"
   ]
  },
  {
   "cell_type": "code",
   "execution_count": 38,
   "id": "a34def28-e0d2-4ca0-9db4-2d9c167c0847",
   "metadata": {},
   "outputs": [
    {
     "data": {
      "text/plain": [
       "<pandas.core.groupby.generic.DataFrameGroupBy object at 0x137dd9340>"
      ]
     },
     "execution_count": 38,
     "metadata": {},
     "output_type": "execute_result"
    }
   ],
   "source": [
    "# 通过参数by指定需要根据哪些列进行聚合\n",
    "agg = data.groupby(by = 'Date')\n",
    "agg\n",
    "# 返回的DataFrameGroupBy为一个DataFrame迭代对象？"
   ]
  },
  {
   "cell_type": "code",
   "execution_count": 39,
   "id": "1e8fb266-db86-419d-bd60-9b5dc70cf8f7",
   "metadata": {},
   "outputs": [
    {
     "name": "stdout",
     "output_type": "stream",
     "text": [
      "[name] 08-24 <type> <class 'str'>\n",
      "[frame] <class 'pandas.core.frame.DataFrame'>\n",
      "<value>\n",
      "     Date   Time       No  HJ89  VT56\n",
      "0  08-24  09:00  SC00178     7    18\n",
      "1  08-24  12:00  SC00178    15    16\n",
      "2  08-24  09:00  SC00181     2    11\n",
      "3  08-24  12:00  SC00181     8    18\n",
      "[name] 08-25 <type> <class 'str'>\n",
      "[frame] <class 'pandas.core.frame.DataFrame'>\n",
      "<value>\n",
      "     Date   Time       No  HJ89  VT56\n",
      "4  08-25  09:00  SC00178     4    18\n",
      "5  08-25  12:00  SC00178    15    11\n",
      "6  08-25  09:00  SC00181     9    11\n",
      "7  08-25  12:00  SC00181     8    18\n",
      "[name] 08-26 <type> <class 'str'>\n",
      "[frame] <class 'pandas.core.frame.DataFrame'>\n",
      "<value>\n",
      "      Date   Time       No  HJ89  VT56\n",
      "8   08-26  09:00  SC00178    16    17\n",
      "9   08-26  12:00  SC00178     7    11\n",
      "10  08-26  09:00  SC00181     5    15\n",
      "11  08-26  12:00  SC00181    16    14\n"
     ]
    }
   ],
   "source": [
    "for name, frame in agg:\n",
    "    print(\"[name]\", name, \"<type>\", type(name))\n",
    "    print(\"[frame]\", type(frame))\n",
    "    print(\"<value>\\n\", frame)"
   ]
  },
  {
   "cell_type": "code",
   "execution_count": 40,
   "id": "2ee7f66a-c7e2-4dee-8138-c5e393652d3a",
   "metadata": {},
   "outputs": [
    {
     "data": {
      "text/html": [
       "<div>\n",
       "<style scoped>\n",
       "    .dataframe tbody tr th:only-of-type {\n",
       "        vertical-align: middle;\n",
       "    }\n",
       "\n",
       "    .dataframe tbody tr th {\n",
       "        vertical-align: top;\n",
       "    }\n",
       "\n",
       "    .dataframe thead th {\n",
       "        text-align: right;\n",
       "    }\n",
       "</style>\n",
       "<table border=\"1\" class=\"dataframe\">\n",
       "  <thead>\n",
       "    <tr style=\"text-align: right;\">\n",
       "      <th></th>\n",
       "      <th>Date</th>\n",
       "      <th>Time</th>\n",
       "      <th>No</th>\n",
       "      <th>HJ89</th>\n",
       "      <th>VT56</th>\n",
       "    </tr>\n",
       "  </thead>\n",
       "  <tbody>\n",
       "    <tr>\n",
       "      <th>0</th>\n",
       "      <td>08-24</td>\n",
       "      <td>09:00</td>\n",
       "      <td>SC00178</td>\n",
       "      <td>7</td>\n",
       "      <td>18</td>\n",
       "    </tr>\n",
       "    <tr>\n",
       "      <th>1</th>\n",
       "      <td>08-24</td>\n",
       "      <td>12:00</td>\n",
       "      <td>SC00178</td>\n",
       "      <td>15</td>\n",
       "      <td>16</td>\n",
       "    </tr>\n",
       "    <tr>\n",
       "      <th>2</th>\n",
       "      <td>08-24</td>\n",
       "      <td>09:00</td>\n",
       "      <td>SC00181</td>\n",
       "      <td>2</td>\n",
       "      <td>11</td>\n",
       "    </tr>\n",
       "    <tr>\n",
       "      <th>3</th>\n",
       "      <td>08-24</td>\n",
       "      <td>12:00</td>\n",
       "      <td>SC00181</td>\n",
       "      <td>8</td>\n",
       "      <td>18</td>\n",
       "    </tr>\n",
       "  </tbody>\n",
       "</table>\n",
       "</div>"
      ],
      "text/plain": [
       "    Date   Time       No  HJ89  VT56\n",
       "0  08-24  09:00  SC00178     7    18\n",
       "1  08-24  12:00  SC00178    15    16\n",
       "2  08-24  09:00  SC00181     2    11\n",
       "3  08-24  12:00  SC00181     8    18"
      ]
     },
     "execution_count": 40,
     "metadata": {},
     "output_type": "execute_result"
    }
   ],
   "source": [
    "# 可以将DataFrame迭代器转换为字典，其中key是分组的键，value是分组后每组的数据块\n",
    "entries = dict(list(agg))\n",
    "entries[\"08-24\"]"
   ]
  },
  {
   "cell_type": "markdown",
   "id": "cf126415-ac0c-4975-8842-5e8af1b903a0",
   "metadata": {},
   "source": [
    "### 聚合"
   ]
  },
  {
   "cell_type": "code",
   "execution_count": 41,
   "id": "94c109ce-3fe0-421a-bbfc-799b2e745aa4",
   "metadata": {},
   "outputs": [
    {
     "data": {
      "text/plain": [
       "No\n",
       "SC00178    10.666667\n",
       "SC00181     8.000000\n",
       "Name: HJ89, dtype: float64"
      ]
     },
     "execution_count": 41,
     "metadata": {},
     "output_type": "execute_result"
    }
   ],
   "source": [
    "# 计算根据No分组之后HJ89指标的均值\n",
    "# 方法一：\n",
    "# ⚠️ 此时返回的是Series\n",
    "data.groupby(by = \"No\")[\"HJ89\"].mean()"
   ]
  },
  {
   "cell_type": "code",
   "execution_count": 49,
   "id": "a4c90ec1-55b5-4298-ae04-74a6636cb18d",
   "metadata": {},
   "outputs": [
    {
     "data": {
      "text/html": [
       "<div>\n",
       "<style scoped>\n",
       "    .dataframe tbody tr th:only-of-type {\n",
       "        vertical-align: middle;\n",
       "    }\n",
       "\n",
       "    .dataframe tbody tr th {\n",
       "        vertical-align: top;\n",
       "    }\n",
       "\n",
       "    .dataframe thead th {\n",
       "        text-align: right;\n",
       "    }\n",
       "</style>\n",
       "<table border=\"1\" class=\"dataframe\">\n",
       "  <thead>\n",
       "    <tr style=\"text-align: right;\">\n",
       "      <th></th>\n",
       "      <th>HJ89</th>\n",
       "    </tr>\n",
       "    <tr>\n",
       "      <th>No</th>\n",
       "      <th></th>\n",
       "    </tr>\n",
       "  </thead>\n",
       "  <tbody>\n",
       "    <tr>\n",
       "      <th>SC00178</th>\n",
       "      <td>10.666667</td>\n",
       "    </tr>\n",
       "    <tr>\n",
       "      <th>SC00181</th>\n",
       "      <td>8.000000</td>\n",
       "    </tr>\n",
       "  </tbody>\n",
       "</table>\n",
       "</div>"
      ],
      "text/plain": [
       "              HJ89\n",
       "No                \n",
       "SC00178  10.666667\n",
       "SC00181   8.000000"
      ]
     },
     "execution_count": 49,
     "metadata": {},
     "output_type": "execute_result"
    }
   ],
   "source": [
    "# ⚠️ 此时返回的是DataFrame\n",
    "data.groupby(by = \"No\")[[\"HJ89\"]].mean()"
   ]
  },
  {
   "cell_type": "code",
   "execution_count": 42,
   "id": "e89894fa-28dc-4a9a-b746-05ff3e5c04f3",
   "metadata": {},
   "outputs": [
    {
     "data": {
      "text/plain": [
       "No\n",
       "SC00178    10.666667\n",
       "SC00181     8.000000\n",
       "Name: HJ89, dtype: float64"
      ]
     },
     "execution_count": 42,
     "metadata": {},
     "output_type": "execute_result"
    }
   ],
   "source": [
    "# 计算根据No分组之后HJ89指标的均值\n",
    "# 方法二：\n",
    "data[\"HJ89\"].groupby(data['No']).mean()"
   ]
  },
  {
   "cell_type": "code",
   "execution_count": 43,
   "id": "1e30d2c3-a2cd-41b9-a29f-3ff5c3f596a8",
   "metadata": {},
   "outputs": [
    {
     "data": {
      "text/html": [
       "<div>\n",
       "<style scoped>\n",
       "    .dataframe tbody tr th:only-of-type {\n",
       "        vertical-align: middle;\n",
       "    }\n",
       "\n",
       "    .dataframe tbody tr th {\n",
       "        vertical-align: top;\n",
       "    }\n",
       "\n",
       "    .dataframe thead th {\n",
       "        text-align: right;\n",
       "    }\n",
       "</style>\n",
       "<table border=\"1\" class=\"dataframe\">\n",
       "  <thead>\n",
       "    <tr style=\"text-align: right;\">\n",
       "      <th></th>\n",
       "      <th>No</th>\n",
       "      <th>HJ89</th>\n",
       "    </tr>\n",
       "  </thead>\n",
       "  <tbody>\n",
       "    <tr>\n",
       "      <th>0</th>\n",
       "      <td>SC00178</td>\n",
       "      <td>10.666667</td>\n",
       "    </tr>\n",
       "    <tr>\n",
       "      <th>1</th>\n",
       "      <td>SC00181</td>\n",
       "      <td>8.000000</td>\n",
       "    </tr>\n",
       "  </tbody>\n",
       "</table>\n",
       "</div>"
      ],
      "text/plain": [
       "        No       HJ89\n",
       "0  SC00178  10.666667\n",
       "1  SC00181   8.000000"
      ]
     },
     "execution_count": 43,
     "metadata": {},
     "output_type": "execute_result"
    }
   ],
   "source": [
    "# 计算根据No分组之后HJ89指标的均值\n",
    "# 希望返回的结果包含行索引\n",
    "# 参数as_index为True即返回数据对象不包含行索引\n",
    "data.groupby(by = \"No\", as_index = False)[\"HJ89\"].mean()"
   ]
  },
  {
   "cell_type": "code",
   "execution_count": 44,
   "id": "f9dd57cd-31ec-4355-bddb-be460894bd5a",
   "metadata": {},
   "outputs": [
    {
     "data": {
      "text/html": [
       "<div>\n",
       "<style scoped>\n",
       "    .dataframe tbody tr th:only-of-type {\n",
       "        vertical-align: middle;\n",
       "    }\n",
       "\n",
       "    .dataframe tbody tr th {\n",
       "        vertical-align: top;\n",
       "    }\n",
       "\n",
       "    .dataframe thead th {\n",
       "        text-align: right;\n",
       "    }\n",
       "</style>\n",
       "<table border=\"1\" class=\"dataframe\">\n",
       "  <thead>\n",
       "    <tr style=\"text-align: right;\">\n",
       "      <th></th>\n",
       "      <th>No</th>\n",
       "      <th>HJ89</th>\n",
       "    </tr>\n",
       "  </thead>\n",
       "  <tbody>\n",
       "    <tr>\n",
       "      <th>0</th>\n",
       "      <td>SC00178</td>\n",
       "      <td>12</td>\n",
       "    </tr>\n",
       "    <tr>\n",
       "      <th>1</th>\n",
       "      <td>SC00181</td>\n",
       "      <td>14</td>\n",
       "    </tr>\n",
       "  </tbody>\n",
       "</table>\n",
       "</div>"
      ],
      "text/plain": [
       "        No  HJ89\n",
       "0  SC00178    12\n",
       "1  SC00181    14"
      ]
     },
     "execution_count": 44,
     "metadata": {},
     "output_type": "execute_result"
    }
   ],
   "source": [
    "# 计算每只股票的HJ89指标的minmax差值\n",
    "# 自定义聚合函数\n",
    "def diff(arr):\n",
    "    return arr.max() - arr.min()\n",
    "\n",
    "data.groupby(by = \"No\", as_index = False)[\"HJ89\"].agg(diff)"
   ]
  },
  {
   "cell_type": "code",
   "execution_count": 55,
   "id": "62d0d994-edf5-4d1e-8edf-7e24ec2fbfe7",
   "metadata": {},
   "outputs": [
    {
     "data": {
      "text/html": [
       "<div>\n",
       "<style scoped>\n",
       "    .dataframe tbody tr th:only-of-type {\n",
       "        vertical-align: middle;\n",
       "    }\n",
       "\n",
       "    .dataframe tbody tr th {\n",
       "        vertical-align: top;\n",
       "    }\n",
       "\n",
       "    .dataframe thead th {\n",
       "        text-align: right;\n",
       "    }\n",
       "</style>\n",
       "<table border=\"1\" class=\"dataframe\">\n",
       "  <thead>\n",
       "    <tr style=\"text-align: right;\">\n",
       "      <th></th>\n",
       "      <th>Date</th>\n",
       "      <th>No</th>\n",
       "      <th>HJ89</th>\n",
       "      <th>VT56</th>\n",
       "    </tr>\n",
       "  </thead>\n",
       "  <tbody>\n",
       "    <tr>\n",
       "      <th>0</th>\n",
       "      <td>08-24</td>\n",
       "      <td>SC00178</td>\n",
       "      <td>11.0</td>\n",
       "      <td>17.0</td>\n",
       "    </tr>\n",
       "    <tr>\n",
       "      <th>1</th>\n",
       "      <td>08-24</td>\n",
       "      <td>SC00181</td>\n",
       "      <td>5.0</td>\n",
       "      <td>14.5</td>\n",
       "    </tr>\n",
       "    <tr>\n",
       "      <th>2</th>\n",
       "      <td>08-25</td>\n",
       "      <td>SC00178</td>\n",
       "      <td>9.5</td>\n",
       "      <td>14.5</td>\n",
       "    </tr>\n",
       "    <tr>\n",
       "      <th>3</th>\n",
       "      <td>08-25</td>\n",
       "      <td>SC00181</td>\n",
       "      <td>8.5</td>\n",
       "      <td>14.5</td>\n",
       "    </tr>\n",
       "    <tr>\n",
       "      <th>4</th>\n",
       "      <td>08-26</td>\n",
       "      <td>SC00178</td>\n",
       "      <td>11.5</td>\n",
       "      <td>14.0</td>\n",
       "    </tr>\n",
       "    <tr>\n",
       "      <th>5</th>\n",
       "      <td>08-26</td>\n",
       "      <td>SC00181</td>\n",
       "      <td>10.5</td>\n",
       "      <td>14.5</td>\n",
       "    </tr>\n",
       "  </tbody>\n",
       "</table>\n",
       "</div>"
      ],
      "text/plain": [
       "    Date       No  HJ89  VT56\n",
       "0  08-24  SC00178  11.0  17.0\n",
       "1  08-24  SC00181   5.0  14.5\n",
       "2  08-25  SC00178   9.5  14.5\n",
       "3  08-25  SC00181   8.5  14.5\n",
       "4  08-26  SC00178  11.5  14.0\n",
       "5  08-26  SC00181  10.5  14.5"
      ]
     },
     "execution_count": 55,
     "metadata": {},
     "output_type": "execute_result"
    }
   ],
   "source": [
    "# 计算根据Date和No分组之后所有指标的均值\n",
    "data.groupby(by = [\"Date\", \"No\"], as_index = False)[[\"HJ89\", \"VT56\"]].mean()"
   ]
  },
  {
   "cell_type": "code",
   "execution_count": null,
   "id": "8678704b-175c-4159-b485-c2e0df7be145",
   "metadata": {},
   "outputs": [],
   "source": []
  }
 ],
 "metadata": {
  "kernelspec": {
   "display_name": "Python 3 (ipykernel)",
   "language": "python",
   "name": "python3"
  },
  "language_info": {
   "codemirror_mode": {
    "name": "ipython",
    "version": 3
   },
   "file_extension": ".py",
   "mimetype": "text/x-python",
   "name": "python",
   "nbconvert_exporter": "python",
   "pygments_lexer": "ipython3",
   "version": "3.8.17"
  }
 },
 "nbformat": 4,
 "nbformat_minor": 5
}
