{
 "cells": [
  {
   "cell_type": "code",
   "execution_count": 5,
   "id": "a253a0dd-da66-4e57-9e82-f783bd3fa6ae",
   "metadata": {},
   "outputs": [],
   "source": [
    "import numpy as np\n",
    "import pandas as pd"
   ]
  },
  {
   "cell_type": "markdown",
   "id": "2807cd24-5b86-45c3-9808-87e5dde118f6",
   "metadata": {},
   "source": [
    "### 层级索引"
   ]
  },
  {
   "cell_type": "code",
   "execution_count": 12,
   "id": "be4fa45f-5efe-4437-a0f3-fe8cc07a93a1",
   "metadata": {},
   "outputs": [
    {
     "data": {
      "text/plain": [
       "a     0\n",
       "a     1\n",
       "a     2\n",
       "b     3\n",
       "b     4\n",
       "b     5\n",
       "c     6\n",
       "c     7\n",
       "c     8\n",
       "d     9\n",
       "d    10\n",
       "d    11\n",
       "dtype: int64"
      ]
     },
     "execution_count": 12,
     "metadata": {},
     "output_type": "execute_result"
    }
   ],
   "source": [
    "# 普通索引\n",
    "s = pd.Series(np.arange(12), index = ['a', 'a', 'a', 'b', 'b', 'b', 'c', 'c', 'c', 'd', 'd', 'd'])\n",
    "s"
   ]
  },
  {
   "cell_type": "code",
   "execution_count": 13,
   "id": "4c2f7a2a-17ee-442a-90c3-92dea212dd86",
   "metadata": {},
   "outputs": [
    {
     "data": {
      "text/plain": [
       "a  0     0\n",
       "   1     1\n",
       "   2     2\n",
       "b  0     3\n",
       "   1     4\n",
       "   2     5\n",
       "c  0     6\n",
       "   1     7\n",
       "   2     8\n",
       "d  0     9\n",
       "   1    10\n",
       "   2    11\n",
       "dtype: int64"
      ]
     },
     "execution_count": 13,
     "metadata": {},
     "output_type": "execute_result"
    }
   ],
   "source": [
    "s1 = pd.Series(np.arange(12), index = [\n",
    "    ['a', 'a', 'a', 'b', 'b', 'b', 'c', 'c', 'c', 'd', 'd', 'd'],\n",
    "    [0, 1, 2, 0, 1, 2, 0, 1, 2, 0, 1, 2,]\n",
    "])\n",
    "s1"
   ]
  },
  {
   "cell_type": "code",
   "execution_count": 16,
   "id": "2e87f7f6-66f5-4a86-8e10-ff248658f912",
   "metadata": {},
   "outputs": [
    {
     "data": {
      "text/plain": [
       "pandas.core.indexes.multi.MultiIndex"
      ]
     },
     "execution_count": 16,
     "metadata": {},
     "output_type": "execute_result"
    }
   ],
   "source": [
    "type(s1.index)"
   ]
  },
  {
   "cell_type": "code",
   "execution_count": 17,
   "id": "a11e1bfc-f472-42a4-9246-6fdab2e67d6c",
   "metadata": {},
   "outputs": [
    {
     "data": {
      "text/plain": [
       "MultiIndex([('a', 0),\n",
       "            ('a', 1),\n",
       "            ('a', 2),\n",
       "            ('b', 0),\n",
       "            ('b', 1),\n",
       "            ('b', 2),\n",
       "            ('c', 0),\n",
       "            ('c', 1),\n",
       "            ('c', 2),\n",
       "            ('d', 0),\n",
       "            ('d', 1),\n",
       "            ('d', 2)],\n",
       "           )"
      ]
     },
     "execution_count": 17,
     "metadata": {},
     "output_type": "execute_result"
    }
   ],
   "source": [
    "s1.index"
   ]
  },
  {
   "cell_type": "markdown",
   "id": "b5883630-1bcc-46d0-86a2-24c15eb06f27",
   "metadata": {},
   "source": [
    "### 索引选取"
   ]
  },
  {
   "cell_type": "code",
   "execution_count": 19,
   "id": "12104ca6-9b1a-4193-b40e-edfdc90c5590",
   "metadata": {},
   "outputs": [
    {
     "data": {
      "text/plain": [
       "0     9\n",
       "1    10\n",
       "2    11\n",
       "dtype: int64"
      ]
     },
     "execution_count": 19,
     "metadata": {},
     "output_type": "execute_result"
    }
   ],
   "source": [
    "# 选取外层索引\n",
    "s1['d']"
   ]
  },
  {
   "cell_type": "code",
   "execution_count": 22,
   "id": "35ff79fa-828f-4058-9053-58736e80bc83",
   "metadata": {},
   "outputs": [
    {
     "data": {
      "text/plain": [
       "10"
      ]
     },
     "execution_count": 22,
     "metadata": {},
     "output_type": "execute_result"
    }
   ],
   "source": [
    "# 选取内存索引\n",
    "s1['d',1]"
   ]
  },
  {
   "cell_type": "code",
   "execution_count": 23,
   "id": "081645a9-21a2-4651-a666-9e5b8e3efdbe",
   "metadata": {},
   "outputs": [
    {
     "data": {
      "text/plain": [
       "a     1\n",
       "b     4\n",
       "c     7\n",
       "d    10\n",
       "dtype: int64"
      ]
     },
     "execution_count": 23,
     "metadata": {},
     "output_type": "execute_result"
    }
   ],
   "source": [
    "# ⚠️ 如果想忽略外层索引则通过:号忽略\n",
    "s1[:,1]"
   ]
  },
  {
   "cell_type": "markdown",
   "id": "42c6b85d-ca39-42ea-9251-b5071c166e79",
   "metadata": {},
   "source": [
    "### 交换索引"
   ]
  },
  {
   "cell_type": "code",
   "execution_count": 27,
   "id": "fc6c8697-f5e2-4628-924c-441bcf231c02",
   "metadata": {},
   "outputs": [
    {
     "data": {
      "text/plain": [
       "0  a     0\n",
       "1  a     1\n",
       "2  a     2\n",
       "0  b     3\n",
       "1  b     4\n",
       "2  b     5\n",
       "0  c     6\n",
       "1  c     7\n",
       "2  c     8\n",
       "0  d     9\n",
       "1  d    10\n",
       "2  d    11\n",
       "dtype: int64"
      ]
     },
     "execution_count": 27,
     "metadata": {},
     "output_type": "execute_result"
    }
   ],
   "source": [
    "# swaplevel函数：交换内外层索引\n",
    "s1.swaplevel()"
   ]
  }
 ],
 "metadata": {
  "kernelspec": {
   "display_name": "Python 3 (ipykernel)",
   "language": "python",
   "name": "python3"
  },
  "language_info": {
   "codemirror_mode": {
    "name": "ipython",
    "version": 3
   },
   "file_extension": ".py",
   "mimetype": "text/x-python",
   "name": "python",
   "nbconvert_exporter": "python",
   "pygments_lexer": "ipython3",
   "version": "3.11.4"
  }
 },
 "nbformat": 4,
 "nbformat_minor": 5
}
