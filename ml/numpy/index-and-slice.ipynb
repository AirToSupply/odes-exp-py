{
 "cells": [
  {
   "cell_type": "code",
   "execution_count": 1,
   "id": "0b5be357",
   "metadata": {},
   "outputs": [],
   "source": [
    "import numpy as np"
   ]
  },
  {
   "cell_type": "markdown",
   "id": "f95ed503",
   "metadata": {},
   "source": [
    "### 一维数组索引与切片"
   ]
  },
  {
   "cell_type": "code",
   "execution_count": 8,
   "id": "4d85045b",
   "metadata": {},
   "outputs": [
    {
     "name": "stdout",
     "output_type": "stream",
     "text": [
      "<arr>  [0 1 2 3 4 5 6 7 8 9]\n",
      "arr[4] =  4\n",
      "arr[4:6] =  [4 5]\n",
      "arr[1:10:2] =  [1 3 5 7 9]\n",
      "arr[-1] =  9\n",
      "arr[-2] =  8\n"
     ]
    }
   ],
   "source": [
    "arr = np.arange(10)\n",
    "print(\"<arr> \", arr)\n",
    "\n",
    "# 查询下标4的元素\n",
    "print(\"arr[4] = \", arr[4])\n",
    "\n",
    "# 查询下标范围在[4, 6)的元素\n",
    "print(\"arr[4:6] = \", arr[4:6])\n",
    "\n",
    "# 查询下标范围在[1, 10) 并且[1, 10)中步长为2的元素（即：下标为1,3,5,7,9的元素）\n",
    "print(\"arr[1:10:2] = \", arr[1:10:2])\n",
    "\n",
    "# 查询倒数第一个元素\n",
    "print(\"arr[-1] = \", arr[-1])\n",
    "\n",
    "# 查询倒数第二个元素\n",
    "print(\"arr[-2] = \", arr[-2])"
   ]
  },
  {
   "cell_type": "markdown",
   "id": "b5056feb",
   "metadata": {},
   "source": [
    "### 二维数组索引与切片"
   ]
  },
  {
   "cell_type": "code",
   "execution_count": 12,
   "id": "a692a5a6",
   "metadata": {},
   "outputs": [
    {
     "name": "stdout",
     "output_type": "stream",
     "text": [
      "<matrix>\n",
      "  [[4 5 5 1 8 9]\n",
      " [2 5 0 1 4 9]\n",
      " [1 3 3 2 9 6]\n",
      " [1 5 0 9 5 2]]\n"
     ]
    }
   ],
   "source": [
    "matrix = np.random.randint(0, 10, size = (4, 6))\n",
    "print(\"<matrix>\\n \", matrix)"
   ]
  },
  {
   "cell_type": "code",
   "execution_count": 15,
   "id": "4540daab",
   "metadata": {},
   "outputs": [
    {
     "name": "stdout",
     "output_type": "stream",
     "text": [
      "<matrix[0]>\n",
      "  [4 5 5 1 8 9]\n",
      "<matrix[1:3]>\n",
      "  [[2 5 0 1 4 9]\n",
      " [1 3 3 2 9 6]]\n",
      "<matrix[[0, 2, 3]]>\n",
      "  [[4 5 5 1 8 9]\n",
      " [1 3 3 2 9 6]\n",
      " [1 5 0 9 5 2]]\n"
     ]
    }
   ],
   "source": [
    "## 按行索引和切片\n",
    "## ⚠️ 如果二维数组中的索引与切片只有一个值，则就是按行进行索引与切片\n",
    "\n",
    "# 查询第0行\n",
    "print(\"<matrix[0]>\\n \", matrix[0])\n",
    "\n",
    "# 查询多行，并且行索引范围是[1, 3)\n",
    "print(\"<matrix[1:3]>\\n \", matrix[1:3])\n",
    "\n",
    "# 查询第0行，第2行和第3行\n",
    "print(\"<matrix[[0, 2, 3]]>\\n \", matrix[[0, 2, 3]])"
   ]
  },
  {
   "cell_type": "code",
   "execution_count": 19,
   "id": "6c220ec4",
   "metadata": {},
   "outputs": [
    {
     "name": "stdout",
     "output_type": "stream",
     "text": [
      "<matrix[:,0]>\n",
      "  [4 2 1 1]\n",
      "<matrix[:,1:3]>\n",
      "  [[5 5]\n",
      " [5 0]\n",
      " [3 3]\n",
      " [5 0]]\n",
      "<matrix[:,[0, 2, 3]]>\n",
      "  [[4 5 1]\n",
      " [2 0 1]\n",
      " [1 3 2]\n",
      " [1 0 9]]\n"
     ]
    }
   ],
   "source": [
    "## 按列索引和切片\n",
    "\n",
    "# 查询第0列\n",
    "print(\"<matrix[:,0]>\\n \", matrix[:,0])\n",
    "\n",
    "# 查询多列，并且列索引范围是[1, 3)\n",
    "print(\"<matrix[:,1:3]>\\n \", matrix[:,1:3])\n",
    "\n",
    "# 查询第0列，第2列和第3列\n",
    "print(\"<matrix[:,[0, 2, 3]]>\\n \", matrix[:,[0, 2, 3]])"
   ]
  },
  {
   "cell_type": "code",
   "execution_count": 23,
   "id": "315933fd",
   "metadata": {},
   "outputs": [
    {
     "name": "stdout",
     "output_type": "stream",
     "text": [
      "<matrix[2, 1]>\n",
      "  3\n",
      "<matrix[[1, 2], [4, 5]]>\n",
      "  [4 6]\n",
      "<matrix[1:3, 4:6]>\n",
      "  [[4 9]\n",
      " [9 6]]\n"
     ]
    }
   ],
   "source": [
    "## 按行和列进行索引和切片\n",
    "\n",
    "# 查询第2行，第1列的元素\n",
    "print(\"<matrix[2, 1]>\\n \", matrix[2, 1])\n",
    "\n",
    "# 获取第1行，第4列的元素以及第2行，第5列的元素\n",
    "print(\"<matrix[[1, 2], [4, 5]]>\\n \", matrix[[1, 2], [4, 5]])\n",
    "\n",
    "# 获取行下表范围是[1, 3) 列下表范围是[4, 6)所包含的和元素\n",
    "print(\"<matrix[1:3, 4:6]>\\n \", matrix[1:3, 4:6])"
   ]
  },
  {
   "cell_type": "markdown",
   "id": "b6a2eb44",
   "metadata": {},
   "source": [
    "### 布尔索引"
   ]
  },
  {
   "cell_type": "code",
   "execution_count": 27,
   "id": "3852aa1b",
   "metadata": {},
   "outputs": [
    {
     "data": {
      "text/plain": [
       "array([[ 0,  1,  2,  3,  4,  5],\n",
       "       [ 6,  7,  8,  9, 10, 11],\n",
       "       [12, 13, 14, 15, 16, 17],\n",
       "       [18, 19, 20, 21, 22, 23]])"
      ]
     },
     "execution_count": 27,
     "metadata": {},
     "output_type": "execute_result"
    }
   ],
   "source": [
    "m = np.arange(24).reshape((4, 6))\n",
    "m"
   ]
  },
  {
   "cell_type": "code",
   "execution_count": 34,
   "id": "b748f2b3",
   "metadata": {},
   "outputs": [
    {
     "name": "stdout",
     "output_type": "stream",
     "text": [
      "<m < 10>\n",
      " [[ True  True  True  True  True  True]\n",
      " [ True  True  True  True False False]\n",
      " [False False False False False False]\n",
      " [False False False False False False]]\n",
      "<m[m < 10]>\n",
      " [0 1 2 3 4 5 6 7 8 9]\n",
      "<m[(m < 5) | (m > 10)]>\n",
      " [ 0  1  2  3  4 11 12 13 14 15 16 17 18 19 20 21 22 23]\n"
     ]
    }
   ],
   "source": [
    "print(\"<m < 10>\\n\", m < 10)\n",
    "\n",
    "# 提取矩阵中元素小于10的值\n",
    "print(\"<m[m < 10]>\\n\", m[m < 10])\n",
    "\n",
    "# 提取矩阵中元素小于5或者大于10的值\n",
    "print(\"<m[(m < 5) | (m > 10)]>\\n\", m[(m < 5) | (m > 10)])"
   ]
  },
  {
   "cell_type": "code",
   "execution_count": null,
   "id": "3e07ec32",
   "metadata": {},
   "outputs": [],
   "source": []
  }
 ],
 "metadata": {
  "kernelspec": {
   "display_name": "Python 3 (ipykernel)",
   "language": "python",
   "name": "python3"
  },
  "language_info": {
   "codemirror_mode": {
    "name": "ipython",
    "version": 3
   },
   "file_extension": ".py",
   "mimetype": "text/x-python",
   "name": "python",
   "nbconvert_exporter": "python",
   "pygments_lexer": "ipython3",
   "version": "3.7.12"
  }
 },
 "nbformat": 4,
 "nbformat_minor": 5
}
