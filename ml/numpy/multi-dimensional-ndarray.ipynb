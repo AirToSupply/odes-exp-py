{
 "cells": [
  {
   "cell_type": "code",
   "execution_count": 1,
   "id": "92e051fe",
   "metadata": {},
   "outputs": [],
   "source": [
    "import numpy as np"
   ]
  },
  {
   "cell_type": "markdown",
   "id": "52c2cf2f",
   "metadata": {},
   "source": [
    "### 数组维度"
   ]
  },
  {
   "cell_type": "code",
   "execution_count": 2,
   "id": "a7d53af6",
   "metadata": {},
   "outputs": [
    {
     "name": "stdout",
     "output_type": "stream",
     "text": [
      "<vector dim>,  1\n",
      "<matrix dim>,  2\n",
      "<tensor dim>,  3\n"
     ]
    }
   ],
   "source": [
    "vector = np.array([1, 2, 3, 4])\n",
    "\n",
    "matrix = np.array([[1, 2, 3, 4], [4, 3, 1, 2]])\n",
    "\n",
    "tensor = np.array([\n",
    "    [[1, 2, 3, 4], [4, 3, 1, 2]],\n",
    "    [[0, 1, 2, 1], [8, 2, 1, 3]]\n",
    "])\n",
    "\n",
    "print(\"<vector dim>, \", vector.ndim)\n",
    "print(\"<matrix dim>, \", matrix.ndim)\n",
    "print(\"<tensor dim>, \", tensor.ndim)"
   ]
  },
  {
   "cell_type": "markdown",
   "id": "86bd44f0",
   "metadata": {},
   "source": [
    "### 数组形状"
   ]
  },
  {
   "cell_type": "code",
   "execution_count": 3,
   "id": "3c13b1f0",
   "metadata": {},
   "outputs": [
    {
     "name": "stdout",
     "output_type": "stream",
     "text": [
      "<vector shape>,  (4,)\n",
      "<matrix shape>,  (2, 4)\n",
      "<tensor shape>,  (2, 2, 4)\n"
     ]
    }
   ],
   "source": [
    "print(\"<vector shape>, \", vector.shape)\n",
    "print(\"<matrix shape>, \", matrix.shape)\n",
    "print(\"<tensor shape>, \", tensor.shape)"
   ]
  },
  {
   "cell_type": "markdown",
   "id": "af6b5363",
   "metadata": {},
   "source": [
    "### 形状重构"
   ]
  },
  {
   "cell_type": "code",
   "execution_count": 5,
   "id": "97daf67b",
   "metadata": {},
   "outputs": [
    {
     "data": {
      "text/plain": [
       "array([[ 1,  2,  3,  4,  5,  6],\n",
       "       [ 7,  8,  9, 10, 11, 12]])"
      ]
     },
     "execution_count": 5,
     "metadata": {},
     "output_type": "execute_result"
    }
   ],
   "source": [
    "# 三维数组变形为二维数组\n",
    "tensor = np.array([\n",
    "    [[1, 2, 3], [4, 5, 6]],\n",
    "    [[7, 8, 9], [10, 11, 12]]\n",
    "])\n",
    "\n",
    "tensor_to_matrix = tensor.reshape((2, 6))\n",
    "tensor_to_matrix"
   ]
  },
  {
   "cell_type": "code",
   "execution_count": 22,
   "id": "a13126d8",
   "metadata": {},
   "outputs": [
    {
     "name": "stdout",
     "output_type": "stream",
     "text": [
      "<1, 12>\n",
      " [[ 1  2  3  4  5  6  7  8  9 10 11 12]]\n",
      "<12, 1>\n",
      " [[ 1]\n",
      " [ 2]\n",
      " [ 3]\n",
      " [ 4]\n",
      " [ 5]\n",
      " [ 6]\n",
      " [ 7]\n",
      " [ 8]\n",
      " [ 9]\n",
      " [10]\n",
      " [11]\n",
      " [12]]\n",
      "<12,  >\n",
      " [ 1  2  3  4  5  6  7  8  9 10 11 12]\n",
      "<12,  >\n",
      " [ 1  2  3  4  5  6  7  8  9 10 11 12]\n"
     ]
    }
   ],
   "source": [
    "# 三维数组变形为一维数组或者单列/单行矩阵\n",
    "\n",
    "# 方法一：reshape重构\n",
    "# 单行矩阵\n",
    "print(\"<1, 12>\\n\", tensor.reshape((1, 12)))\n",
    "# 单列矩阵\n",
    "print(\"<12, 1>\\n\", tensor.reshape((12, 1)))\n",
    "# 一位数组\n",
    "print(\"<12,  >\\n\", tensor.reshape((12,  )))\n",
    "\n",
    "# 方法二：扁平化\n",
    "# flatten函数等价于reshape((N,  ))\n",
    "print(\"<12,  >\\n\", tensor.flatten())"
   ]
  },
  {
   "cell_type": "markdown",
   "id": "ce1c3278",
   "metadata": {},
   "source": [
    "### 元素个数和占用大小"
   ]
  },
  {
   "cell_type": "code",
   "execution_count": 29,
   "id": "5ab34a51",
   "metadata": {},
   "outputs": [
    {
     "name": "stdout",
     "output_type": "stream",
     "text": [
      "<vector>  [ 0  1  2  3  4  5  6  7  8  9 10 11]\n",
      "<dtype>  int64\n",
      "<size>  12\n",
      "<itemsize>  8\n",
      "<total size>  96\n"
     ]
    }
   ],
   "source": [
    "vector = np.arange(12)\n",
    "print(\"<vector> \", vector)\n",
    "print(\"<dtype> \", vector.dtype)\n",
    "# 数组元素个数\n",
    "print(\"<size> \", vector.size)\n",
    "# 数组元素大小（占用字节）\n",
    "print(\"<itemsize> \", vector.itemsize)\n",
    "# 数组总占用\n",
    "print(\"<total size> \", vector.itemsize * vector.size)"
   ]
  }
 ],
 "metadata": {
  "kernelspec": {
   "display_name": "Python 3 (ipykernel)",
   "language": "python",
   "name": "python3"
  },
  "language_info": {
   "codemirror_mode": {
    "name": "ipython",
    "version": 3
   },
   "file_extension": ".py",
   "mimetype": "text/x-python",
   "name": "python",
   "nbconvert_exporter": "python",
   "pygments_lexer": "ipython3",
   "version": "3.7.12"
  }
 },
 "nbformat": 4,
 "nbformat_minor": 5
}
