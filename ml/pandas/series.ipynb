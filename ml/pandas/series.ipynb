{
 "cells": [
  {
   "cell_type": "code",
   "execution_count": 6,
   "id": "a2307ea8",
   "metadata": {},
   "outputs": [],
   "source": [
    "import numpy as np\n",
    "import pandas as pd"
   ]
  },
  {
   "cell_type": "markdown",
   "id": "063cc721",
   "metadata": {},
   "source": [
    "### 什么是Series？\n",
    "\n",
    "Series是一种一维标记的数组型对象，能够保证任何数据类型（int，float，str，python object等类型），它包含了数据的标签，称之为索引。\n",
    "\n",
    "Series主要由数据和索引组成，索引（index）在左，数据在右（values），并且索引是自动创建的。例如下面这个样子：\n",
    "\n",
    "```text\n",
    "     Series\n",
    "-----------------\n",
    "index     element\n",
    "[0]       10\n",
    "[1]       20\n",
    "[2]       50\n",
    "[3]       70\n",
    "[4]       80\n",
    "```"
   ]
  },
  {
   "cell_type": "markdown",
   "id": "03edb0f5",
   "metadata": {},
   "source": [
    "### 创建Series"
   ]
  },
  {
   "cell_type": "code",
   "execution_count": 5,
   "id": "61948b40",
   "metadata": {},
   "outputs": [
    {
     "name": "stdout",
     "output_type": "stream",
     "text": [
      "<s>\n",
      " 0    1.1\n",
      "1    2.1\n",
      "2    3.2\n",
      "3    4.5\n",
      "dtype: float64\n",
      "<s type>\n",
      " <class 'pandas.core.series.Series'>\n"
     ]
    }
   ],
   "source": [
    "# 方法一：通过python列表创建（自动创建索引）\n",
    "s = pd.Series([1.1, 2.1, 3.2, 4.5])\n",
    "print(\"<s>\\n\", s)\n",
    "# pandas.core.series.Series\n",
    "print(\"<s type>\\n\", type(s))"
   ]
  },
  {
   "cell_type": "code",
   "execution_count": 7,
   "id": "b2c3f82e",
   "metadata": {},
   "outputs": [
    {
     "data": {
      "text/plain": [
       "0    0\n",
       "1    1\n",
       "2    2\n",
       "3    3\n",
       "dtype: int64"
      ]
     },
     "execution_count": 7,
     "metadata": {},
     "output_type": "execute_result"
    }
   ],
   "source": [
    "# 通过dnarray创建（自动创建索引）\n",
    "pd.Series(np.arange(0, 4))"
   ]
  },
  {
   "cell_type": "code",
   "execution_count": 10,
   "id": "43182dc2",
   "metadata": {},
   "outputs": [
    {
     "name": "stdout",
     "output_type": "stream",
     "text": [
      "<s>\n",
      " a    1.1\n",
      "b    2.1\n",
      "c    3.2\n",
      "d    4.5\n",
      "dtype: float64\n",
      "<s index>\n",
      " Index(['a', 'b', 'c', 'd'], dtype='object')\n",
      "<s index type>\n",
      " <class 'pandas.core.indexes.base.Index'>\n",
      "<s values>\n",
      " [1.1 2.1 3.2 4.5]\n",
      "<s values type>\n",
      " <class 'numpy.ndarray'>\n"
     ]
    }
   ],
   "source": [
    "# 方法二：自定义创建索引\n",
    "s = pd.Series([1.1, 2.1, 3.2, 4.5], index = ['a', 'b', 'c', 'd'])\n",
    "print(\"<s>\\n\", s)\n",
    "# 获取索引\n",
    "print(\"<s index>\\n\", s.index)\n",
    "print(\"<s index type>\\n\", type(s.index))   # pandas.core.indexes.base.Index\n",
    "# 获取数据\n",
    "print(\"<s values>\\n\", s.values)\n",
    "print(\"<s values type>\\n\", type(s.values)) # numpy.ndarray"
   ]
  },
  {
   "cell_type": "code",
   "execution_count": 11,
   "id": "3dbf9865",
   "metadata": {},
   "outputs": [
    {
     "data": {
      "text/plain": [
       "Name        airtosupply\n",
       "Age                  24\n",
       "Location             NJ\n",
       "dtype: object"
      ]
     },
     "execution_count": 11,
     "metadata": {},
     "output_type": "execute_result"
    }
   ],
   "source": [
    "# 方法三：通过字典创建\n",
    "pd.Series({\n",
    "    \"Name\"    : \"airtosupply\",\n",
    "    \"Age\"     :  24,\n",
    "    \"Location\": \"NJ\"\n",
    "})"
   ]
  },
  {
   "cell_type": "code",
   "execution_count": 14,
   "id": "ffe9196f",
   "metadata": {},
   "outputs": [
    {
     "data": {
      "text/plain": [
       "Name        airtosupply\n",
       "Age                  24\n",
       "Location             NJ\n",
       "Sex                 NaN\n",
       "dtype: object"
      ]
     },
     "execution_count": 14,
     "metadata": {},
     "output_type": "execute_result"
    }
   ],
   "source": [
    "# ⚠️ 当索引个数大于数据个数 数据会默认通过Nan进行填充\n",
    "pd.Series({\n",
    "    \"Name\"    : \"airtosupply\",\n",
    "    \"Age\"     :  24,\n",
    "    \"Location\": \"NJ\"\n",
    "}, index = [\"Name\", \"Age\", \"Location\", \"Sex\"])"
   ]
  },
  {
   "cell_type": "markdown",
   "id": "8ae4cb26",
   "metadata": {},
   "source": [
    "### 基本使用"
   ]
  },
  {
   "cell_type": "markdown",
   "id": "8c7eaf5e",
   "metadata": {},
   "source": [
    "#### 检查是否有缺失值"
   ]
  },
  {
   "cell_type": "code",
   "execution_count": 20,
   "id": "3c2cdfe9",
   "metadata": {},
   "outputs": [
    {
     "name": "stdout",
     "output_type": "stream",
     "text": [
      "<location>\n",
      " X    3.0\n",
      "Y    4.0\n",
      "Z    NaN\n",
      "dtype: float64\n",
      "<isnull>\n",
      " X    False\n",
      "Y    False\n",
      "Z     True\n",
      "dtype: bool\n",
      "<notnull>\n",
      " X     True\n",
      "Y     True\n",
      "Z    False\n",
      "dtype: bool\n"
     ]
    }
   ],
   "source": [
    "location = pd.Series({\"X\": 3, \"Y\":  4}, index = [\"X\", \"Y\", \"Z\"])\n",
    "print(\"<location>\\n\", location)\n",
    "\n",
    "# isnull方法用于判断series中元素是否是缺失值\n",
    "print(\"<isnull>\\n\", location.isnull())\n",
    "\n",
    "# notnull方法用于判断series中元素是否不是缺失值\n",
    "print(\"<notnull>\\n\", location.notnull())"
   ]
  },
  {
   "cell_type": "markdown",
   "id": "3bc2534d",
   "metadata": {},
   "source": [
    "#### 获取索引和数据"
   ]
  },
  {
   "cell_type": "code",
   "execution_count": 21,
   "id": "84b882b8",
   "metadata": {},
   "outputs": [
    {
     "name": "stdout",
     "output_type": "stream",
     "text": [
      "<location index>:  Index(['X', 'Y', 'Z'], dtype='object')\n",
      "<location value>:  [ 3.  4. nan]\n"
     ]
    }
   ],
   "source": [
    "print(\"<location index>: \", location.index)\n",
    "print(\"<location value>: \", location.values)"
   ]
  },
  {
   "cell_type": "markdown",
   "id": "9bac1bfb",
   "metadata": {},
   "source": [
    "#### 切片和索引"
   ]
  },
  {
   "cell_type": "code",
   "execution_count": 23,
   "id": "c46569e0",
   "metadata": {},
   "outputs": [
    {
     "name": "stdout",
     "output_type": "stream",
     "text": [
      "<weight>\n",
      " w1    0.3\n",
      "w2    0.4\n",
      "w3    0.2\n",
      "w4    0.7\n",
      "w5    0.1\n",
      "w6    0.3\n",
      "dtype: float64\n"
     ]
    }
   ],
   "source": [
    "weight = pd.Series({\"w1\": 0.3, \"w2\": 0.4, \"w3\": 0.2, \"w4\": 0.7, \"w5\": 0.1, \"w6\": 0.3})\n",
    "print(\"<weight>\\n\", weight)"
   ]
  },
  {
   "cell_type": "code",
   "execution_count": 31,
   "id": "fa1f67ac",
   "metadata": {},
   "outputs": [
    {
     "name": "stdout",
     "output_type": "stream",
     "text": [
      "<weight[1]>\n",
      " 0.4\n",
      "<weight[[2, 4]]>\n",
      " w3    0.2\n",
      "w5    0.1\n",
      "dtype: float64\n",
      "<weight[2:5]>\n",
      " w3    0.2\n",
      "w4    0.7\n",
      "w5    0.1\n",
      "dtype: float64\n"
     ]
    }
   ],
   "source": [
    "# 通过标签取值\n",
    "\n",
    "# 获取确定索引下标对应的值\n",
    "print(\"<weight[1]>\\n\", weight[1])\n",
    "\n",
    "# 获取多个确定索引下标对应的值\n",
    "print(\"<weight[[2, 4]]>\\n\", weight[[2, 4]])\n",
    "\n",
    "# 获取索引下标范围在[2,5)所对应的值\n",
    "print(\"<weight[2:5]>\\n\", weight[2:5])"
   ]
  },
  {
   "cell_type": "code",
   "execution_count": 33,
   "id": "73535118",
   "metadata": {},
   "outputs": [
    {
     "name": "stdout",
     "output_type": "stream",
     "text": [
      "<weight['w2']>\n",
      " 0.4\n",
      "weight[['w2', 'w4']]>\n",
      " w2    0.4\n",
      "w4    0.7\n",
      "dtype: float64\n",
      "weight['w1':'w5']>\n",
      " w1    0.3\n",
      "w2    0.4\n",
      "w3    0.2\n",
      "w4    0.7\n",
      "w5    0.1\n",
      "dtype: float64\n"
     ]
    }
   ],
   "source": [
    "# 通过标签名取值\n",
    "\n",
    "# 获取确定索引名称对应的值\n",
    "print(\"<weight['w2']>\\n\", weight['w2'])\n",
    "\n",
    "# 获取多个确定索引名称对应的值\n",
    "print(\"weight[['w2', 'w4']]>\\n\", weight[['w2', 'w4']])\n",
    "\n",
    "# 获取多个确定索引名称对应的值\n",
    "# ⚠️ 这里和weight[2:5]不一样的是索引名称范围是['w1':'w5']，包含'w5'这个边界值\n",
    "print(\"weight['w1':'w5']>\\n\", weight['w1':'w5'])"
   ]
  },
  {
   "cell_type": "markdown",
   "id": "56c131a0",
   "metadata": {},
   "source": [
    "#### 布尔索引"
   ]
  },
  {
   "cell_type": "code",
   "execution_count": 35,
   "id": "a47df915",
   "metadata": {},
   "outputs": [
    {
     "name": "stdout",
     "output_type": "stream",
     "text": [
      "<W>\n",
      " w1    0.3\n",
      "w2    0.4\n",
      "w3    0.2\n",
      "w4    0.7\n",
      "w5    0.1\n",
      "w6    0.3\n",
      "dtype: float64\n",
      "<W[W > 3]>\n",
      " w2    0.4\n",
      "w4    0.7\n",
      "dtype: float64\n"
     ]
    }
   ],
   "source": [
    "W = pd.Series({\"w1\": 0.3, \"w2\": 0.4, \"w3\": 0.2, \"w4\": 0.7, \"w5\": 0.1, \"w6\": 0.3})\n",
    "print(\"<W>\\n\", W)\n",
    "\n",
    "# 查询元素大于0.3的值\n",
    "print(\"<W[W > 0.3]>\\n\", W[W > 0.3])"
   ]
  },
  {
   "cell_type": "markdown",
   "id": "5963fb92",
   "metadata": {},
   "source": [
    "#### 索引和对应数据的关系不被运算所影响"
   ]
  },
  {
   "cell_type": "code",
   "execution_count": 37,
   "id": "0193742b",
   "metadata": {},
   "outputs": [
    {
     "name": "stdout",
     "output_type": "stream",
     "text": [
      "<W>\n",
      " w1    0.3\n",
      "w2    0.4\n",
      "w3    0.2\n",
      "w4    0.7\n",
      "w5    0.1\n",
      "w6    0.3\n",
      "dtype: float64\n",
      "<W * 2>\n",
      " w1    0.6\n",
      "w2    0.8\n",
      "w3    0.4\n",
      "w4    1.4\n",
      "w5    0.2\n",
      "w6    0.6\n",
      "dtype: float64\n",
      "<W > 0.2>\n",
      " w1     True\n",
      "w2     True\n",
      "w3    False\n",
      "w4     True\n",
      "w5    False\n",
      "w6     True\n",
      "dtype: bool\n"
     ]
    }
   ],
   "source": [
    "print(\"<W>\\n\", W)\n",
    "print(\"<W * 2>\\n\", W * 2)\n",
    "print(\"<W > 0.2>\\n\", W > 0.2)"
   ]
  },
  {
   "cell_type": "markdown",
   "id": "642e7370",
   "metadata": {},
   "source": [
    "#### 快速探查数据"
   ]
  },
  {
   "cell_type": "code",
   "execution_count": 40,
   "id": "6c9fefc3",
   "metadata": {},
   "outputs": [
    {
     "data": {
      "text/plain": [
       "0     1\n",
       "1     4\n",
       "2    12\n",
       "3    56\n",
       "4    34\n",
       "5    12\n",
       "6     2\n",
       "dtype: int64"
      ]
     },
     "execution_count": 40,
     "metadata": {},
     "output_type": "execute_result"
    }
   ],
   "source": [
    "s = pd.Series([1, 4, 12, 56, 34, 12, 2])\n",
    "s"
   ]
  },
  {
   "cell_type": "code",
   "execution_count": 41,
   "id": "6cdefa85",
   "metadata": {},
   "outputs": [
    {
     "data": {
      "text/plain": [
       "0     1\n",
       "1     4\n",
       "2    12\n",
       "dtype: int64"
      ]
     },
     "execution_count": 41,
     "metadata": {},
     "output_type": "execute_result"
    }
   ],
   "source": [
    "# 查看前3条数据 默认查看前5条\n",
    "s.head(3)"
   ]
  },
  {
   "cell_type": "code",
   "execution_count": 43,
   "id": "362178e8",
   "metadata": {},
   "outputs": [
    {
     "data": {
      "text/plain": [
       "2    12\n",
       "3    56\n",
       "4    34\n",
       "5    12\n",
       "6     2\n",
       "dtype: int64"
      ]
     },
     "execution_count": 43,
     "metadata": {},
     "output_type": "execute_result"
    }
   ],
   "source": [
    "# 查看最后5条数据 默认查看前5条\n",
    "s.tail()"
   ]
  }
 ],
 "metadata": {
  "kernelspec": {
   "display_name": "Python 3 (ipykernel)",
   "language": "python",
   "name": "python3"
  },
  "language_info": {
   "codemirror_mode": {
    "name": "ipython",
    "version": 3
   },
   "file_extension": ".py",
   "mimetype": "text/x-python",
   "name": "python",
   "nbconvert_exporter": "python",
   "pygments_lexer": "ipython3",
   "version": "3.7.12"
  }
 },
 "nbformat": 4,
 "nbformat_minor": 5
}
